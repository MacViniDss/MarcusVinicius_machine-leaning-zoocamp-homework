{
 "cells": [
  {
   "cell_type": "code",
   "execution_count": 245,
   "id": "5dda0f52-b55e-411f-a52b-f024c88583d8",
   "metadata": {},
   "outputs": [],
   "source": [
    "import pandas as pd\n",
    "import numpy as np\n",
    "\n",
    "df = pd.read_csv('course_lead_scoring.csv')"
   ]
  },
  {
   "cell_type": "code",
   "execution_count": 246,
   "id": "b6e55a9a-f196-4313-a42a-86313d3a4ee5",
   "metadata": {},
   "outputs": [
    {
     "data": {
      "text/html": [
       "<div>\n",
       "<style scoped>\n",
       "    .dataframe tbody tr th:only-of-type {\n",
       "        vertical-align: middle;\n",
       "    }\n",
       "\n",
       "    .dataframe tbody tr th {\n",
       "        vertical-align: top;\n",
       "    }\n",
       "\n",
       "    .dataframe thead th {\n",
       "        text-align: right;\n",
       "    }\n",
       "</style>\n",
       "<table border=\"1\" class=\"dataframe\">\n",
       "  <thead>\n",
       "    <tr style=\"text-align: right;\">\n",
       "      <th></th>\n",
       "      <th>lead_source</th>\n",
       "      <th>industry</th>\n",
       "      <th>number_of_courses_viewed</th>\n",
       "      <th>annual_income</th>\n",
       "      <th>employment_status</th>\n",
       "      <th>location</th>\n",
       "      <th>interaction_count</th>\n",
       "      <th>lead_score</th>\n",
       "      <th>converted</th>\n",
       "    </tr>\n",
       "  </thead>\n",
       "  <tbody>\n",
       "    <tr>\n",
       "      <th>0</th>\n",
       "      <td>paid_ads</td>\n",
       "      <td>NaN</td>\n",
       "      <td>1</td>\n",
       "      <td>79450.0</td>\n",
       "      <td>unemployed</td>\n",
       "      <td>south_america</td>\n",
       "      <td>4</td>\n",
       "      <td>0.94</td>\n",
       "      <td>1</td>\n",
       "    </tr>\n",
       "    <tr>\n",
       "      <th>1</th>\n",
       "      <td>social_media</td>\n",
       "      <td>retail</td>\n",
       "      <td>1</td>\n",
       "      <td>46992.0</td>\n",
       "      <td>employed</td>\n",
       "      <td>south_america</td>\n",
       "      <td>1</td>\n",
       "      <td>0.80</td>\n",
       "      <td>0</td>\n",
       "    </tr>\n",
       "    <tr>\n",
       "      <th>2</th>\n",
       "      <td>events</td>\n",
       "      <td>healthcare</td>\n",
       "      <td>5</td>\n",
       "      <td>78796.0</td>\n",
       "      <td>unemployed</td>\n",
       "      <td>australia</td>\n",
       "      <td>3</td>\n",
       "      <td>0.69</td>\n",
       "      <td>1</td>\n",
       "    </tr>\n",
       "    <tr>\n",
       "      <th>3</th>\n",
       "      <td>paid_ads</td>\n",
       "      <td>retail</td>\n",
       "      <td>2</td>\n",
       "      <td>83843.0</td>\n",
       "      <td>NaN</td>\n",
       "      <td>australia</td>\n",
       "      <td>1</td>\n",
       "      <td>0.87</td>\n",
       "      <td>0</td>\n",
       "    </tr>\n",
       "    <tr>\n",
       "      <th>4</th>\n",
       "      <td>referral</td>\n",
       "      <td>education</td>\n",
       "      <td>3</td>\n",
       "      <td>85012.0</td>\n",
       "      <td>self_employed</td>\n",
       "      <td>europe</td>\n",
       "      <td>3</td>\n",
       "      <td>0.62</td>\n",
       "      <td>1</td>\n",
       "    </tr>\n",
       "  </tbody>\n",
       "</table>\n",
       "</div>"
      ],
      "text/plain": [
       "    lead_source    industry  number_of_courses_viewed  annual_income  \\\n",
       "0      paid_ads         NaN                         1        79450.0   \n",
       "1  social_media      retail                         1        46992.0   \n",
       "2        events  healthcare                         5        78796.0   \n",
       "3      paid_ads      retail                         2        83843.0   \n",
       "4      referral   education                         3        85012.0   \n",
       "\n",
       "  employment_status       location  interaction_count  lead_score  converted  \n",
       "0        unemployed  south_america                  4        0.94          1  \n",
       "1          employed  south_america                  1        0.80          0  \n",
       "2        unemployed      australia                  3        0.69          1  \n",
       "3               NaN      australia                  1        0.87          0  \n",
       "4     self_employed         europe                  3        0.62          1  "
      ]
     },
     "execution_count": 246,
     "metadata": {},
     "output_type": "execute_result"
    }
   ],
   "source": [
    "df.head()"
   ]
  },
  {
   "cell_type": "code",
   "execution_count": 247,
   "id": "5dee553b-b7e4-4f8b-87a6-228b3fe40e39",
   "metadata": {},
   "outputs": [
    {
     "name": "stdout",
     "output_type": "stream",
     "text": [
      "<class 'pandas.core.frame.DataFrame'>\n",
      "RangeIndex: 1462 entries, 0 to 1461\n",
      "Data columns (total 9 columns):\n",
      " #   Column                    Non-Null Count  Dtype  \n",
      "---  ------                    --------------  -----  \n",
      " 0   lead_source               1334 non-null   object \n",
      " 1   industry                  1328 non-null   object \n",
      " 2   number_of_courses_viewed  1462 non-null   int64  \n",
      " 3   annual_income             1281 non-null   float64\n",
      " 4   employment_status         1362 non-null   object \n",
      " 5   location                  1399 non-null   object \n",
      " 6   interaction_count         1462 non-null   int64  \n",
      " 7   lead_score                1462 non-null   float64\n",
      " 8   converted                 1462 non-null   int64  \n",
      "dtypes: float64(2), int64(3), object(4)\n",
      "memory usage: 102.9+ KB\n"
     ]
    }
   ],
   "source": [
    "df.info()"
   ]
  },
  {
   "cell_type": "code",
   "execution_count": 248,
   "id": "bc56a11b-90cc-4d2f-aafb-bdfd7f17c708",
   "metadata": {},
   "outputs": [
    {
     "data": {
      "text/plain": [
       "lead_source                 128\n",
       "industry                    134\n",
       "number_of_courses_viewed      0\n",
       "annual_income               181\n",
       "employment_status           100\n",
       "location                     63\n",
       "interaction_count             0\n",
       "lead_score                    0\n",
       "converted                     0\n",
       "dtype: int64"
      ]
     },
     "execution_count": 248,
     "metadata": {},
     "output_type": "execute_result"
    }
   ],
   "source": [
    "df.isnull().sum()"
   ]
  },
  {
   "cell_type": "code",
   "execution_count": 249,
   "id": "d2713cc4-6565-4861-8cb0-0f20a9b01582",
   "metadata": {},
   "outputs": [],
   "source": [
    "categorical_columns = list(df.dtypes[df.dtypes == 'object'].index)\n",
    "\n",
    "for c in categorical_columns:\n",
    "    df[c] = df[c].str.lower().str.replace(' ', '_')\n",
    "    df[c] = df[c].fillna('NA')"
   ]
  },
  {
   "cell_type": "code",
   "execution_count": 250,
   "id": "e3b270a8-d96c-46fe-aa66-6276b8ac5e6c",
   "metadata": {},
   "outputs": [],
   "source": [
    "numerical = (df.dtypes == 'float64') | (df.dtypes == 'int64')\n",
    "numerical_columns = list(df.dtypes[numerical].index)\n",
    "for c in numerical_columns:\n",
    "    df[c] = df[c].fillna(0.0)"
   ]
  },
  {
   "cell_type": "code",
   "execution_count": 251,
   "id": "53b7e0b6-9971-407d-b6b4-cf9e2c83f49f",
   "metadata": {},
   "outputs": [
    {
     "data": {
      "text/plain": [
       "lead_source                 0\n",
       "industry                    0\n",
       "number_of_courses_viewed    0\n",
       "annual_income               0\n",
       "employment_status           0\n",
       "location                    0\n",
       "interaction_count           0\n",
       "lead_score                  0\n",
       "converted                   0\n",
       "dtype: int64"
      ]
     },
     "execution_count": 251,
     "metadata": {},
     "output_type": "execute_result"
    }
   ],
   "source": [
    "df.isnull().sum()"
   ]
  },
  {
   "cell_type": "markdown",
   "id": "c20186ad-ecc5-4a03-9a1d-0d855598214b",
   "metadata": {},
   "source": [
    "Question 1\n",
    "What is the most frequent observation (mode) for the column industry?"
   ]
  },
  {
   "cell_type": "code",
   "execution_count": 252,
   "id": "4264ce57-0e6b-4170-801a-c5833acbaf02",
   "metadata": {},
   "outputs": [
    {
     "data": {
      "text/plain": [
       "industry\n",
       "retail           203\n",
       "finance          200\n",
       "other            198\n",
       "healthcare       187\n",
       "education        187\n",
       "technology       179\n",
       "manufacturing    174\n",
       "NA               134\n",
       "Name: count, dtype: int64"
      ]
     },
     "execution_count": 252,
     "metadata": {},
     "output_type": "execute_result"
    }
   ],
   "source": [
    "df.industry.value_counts()"
   ]
  },
  {
   "cell_type": "markdown",
   "id": "d85272d9-07c2-4ac4-996f-6f786d7615c1",
   "metadata": {},
   "source": [
    "Question 2\n",
    "Create the correlation matrix for the numerical features of your dataset. In a correlation matrix, you compute the correlation coefficient between every pair of features.\n",
    "\n",
    "What are the two features that have the biggest correlation?"
   ]
  },
  {
   "cell_type": "code",
   "execution_count": 253,
   "id": "bb75b7a6-4ba1-4727-b7ff-e8e5990ec90a",
   "metadata": {},
   "outputs": [
    {
     "data": {
      "text/plain": [
       "number_of_courses_viewed    0.435914\n",
       "annual_income               0.053131\n",
       "interaction_count           0.374573\n",
       "lead_score                  0.193673\n",
       "converted                   1.000000\n",
       "dtype: float64"
      ]
     },
     "execution_count": 253,
     "metadata": {},
     "output_type": "execute_result"
    }
   ],
   "source": [
    "df[numerical_columns].corrwith(df.converted).abs()"
   ]
  },
  {
   "cell_type": "markdown",
   "id": "d442510c-4c22-4b80-b832-98a6ae6b95bc",
   "metadata": {},
   "source": [
    "Split the data\n",
    "\n",
    "    Split your data in train/val/test sets with 60%/20%/20% distribution.\n",
    "    Use Scikit-Learn for that (the train_test_split function) and set the seed to 42.\n",
    "    Make sure that the target value converted is not in your dataframe.\n",
    "\n",
    "Question 3\n",
    "\n",
    "    Calculate the mutual information score between converted and other categorical variables in the dataset. Use the training set only.\n",
    "    Round the scores to 2 decimals using round(score, 2).\n"
   ]
  },
  {
   "cell_type": "code",
   "execution_count": 254,
   "id": "bb168c47-2d0c-4282-88ce-b750b2504717",
   "metadata": {},
   "outputs": [
    {
     "data": {
      "text/plain": [
       "(1169, 876, 293, 293)"
      ]
     },
     "execution_count": 254,
     "metadata": {},
     "output_type": "execute_result"
    }
   ],
   "source": [
    "from sklearn.model_selection import train_test_split\n",
    "from sklearn.metrics import mutual_info_score\n",
    "\n",
    "df_full_train, df_test = train_test_split(df, test_size = 0.2, random_state=42)\n",
    "# 20% out of 80% from the full_train df\n",
    "df_train, df_val = train_test_split(df_full_train, test_size = 0.25, random_state=42)\n",
    "\n",
    "len(df_full_train), len(df_train), len(df_val), len(df_test)"
   ]
  },
  {
   "cell_type": "code",
   "execution_count": 255,
   "id": "a901edc0-2b3d-4ab9-a1eb-ab65a8c74aa3",
   "metadata": {},
   "outputs": [],
   "source": [
    "# Target variables\n",
    "y_train = df_train.converted.values\n",
    "y_val = df_val.converted.values\n",
    "y_test = df_test.converted.values\n",
    "\n",
    "del df_train['converted']\n",
    "del df_val['converted']\n",
    "del df_test['converted']"
   ]
  },
  {
   "cell_type": "code",
   "execution_count": 256,
   "id": "996be385-4f94-4370-90de-1a058eadc2ef",
   "metadata": {},
   "outputs": [
    {
     "data": {
      "text/plain": [
       "lead_source          0.03\n",
       "employment_status    0.01\n",
       "industry             0.01\n",
       "location             0.00\n",
       "dtype: float64"
      ]
     },
     "execution_count": 256,
     "metadata": {},
     "output_type": "execute_result"
    }
   ],
   "source": [
    "def mutual_info_converted_score(series):\n",
    "    return mutual_info_score(series, df_full_train.converted)\n",
    "\n",
    "mi = df_full_train[categorical_columns].apply(mutual_info_converted_score).sort_values(ascending= False)\n",
    "round(mi, 2)"
   ]
  },
  {
   "cell_type": "markdown",
   "id": "e555cfac-2ed1-4b08-814f-8d3e9d9fa0f4",
   "metadata": {},
   "source": [
    "Question 4\n",
    "\n",
    "    Now let's train a logistic regression.\n",
    "    Remember that we have several categorical variables in the dataset. Include them using one-hot encoding.\n",
    "    Fit the model on the training dataset.\n",
    "        To make sure the results are reproducible across different versions of Scikit-Learn, fit the model with these parameters:\n",
    "        model = LogisticRegression(solver='liblinear', C=1.0, max_iter=1000, random_state=42)\n",
    "    Calculate the accuracy on the validation dataset and round it to 2 decimal digits.\n"
   ]
  },
  {
   "cell_type": "code",
   "execution_count": 257,
   "id": "020f9ea6-7aaa-4ca0-bd28-21311abac2ad",
   "metadata": {},
   "outputs": [
    {
     "data": {
      "text/plain": [
       "{'lead_source': 'paid_ads',\n",
       " 'industry': 'retail',\n",
       " 'employment_status': 'student',\n",
       " 'location': 'middle_east',\n",
       " 'number_of_courses_viewed': 0,\n",
       " 'annual_income': 58472.0,\n",
       " 'interaction_count': 5,\n",
       " 'lead_score': 0.03}"
      ]
     },
     "execution_count": 257,
     "metadata": {},
     "output_type": "execute_result"
    }
   ],
   "source": [
    "from sklearn.feature_extraction import DictVectorizer\n",
    "numerical_columns.remove('converted')\n",
    "train_dicts = df_train[categorical_columns + numerical_columns].to_dict(orient= 'records')\n",
    "train_dicts[0]"
   ]
  },
  {
   "cell_type": "code",
   "execution_count": 258,
   "id": "fdd6b513-6b66-4898-869e-a5ac25d8bf3c",
   "metadata": {},
   "outputs": [],
   "source": [
    "dv = DictVectorizer(sparse= False)\n",
    "X_train = dv.fit_transform(train_dicts)\n",
    "\n",
    "val_dicts = df_val[categorical_columns + numerical_columns].to_dict(orient= 'records')\n",
    "X_val = dv.transform(val_dicts)"
   ]
  },
  {
   "cell_type": "code",
   "execution_count": 259,
   "id": "b2295595-95b8-4ae0-898e-1a786b9e2bb6",
   "metadata": {},
   "outputs": [
    {
     "data": {
      "text/plain": [
       "array([5.8472e+04, 0.0000e+00, 0.0000e+00, 0.0000e+00, 1.0000e+00,\n",
       "       0.0000e+00, 0.0000e+00, 0.0000e+00, 0.0000e+00, 0.0000e+00,\n",
       "       0.0000e+00, 0.0000e+00, 1.0000e+00, 0.0000e+00, 5.0000e+00,\n",
       "       3.0000e-02, 0.0000e+00, 0.0000e+00, 0.0000e+00, 1.0000e+00,\n",
       "       0.0000e+00, 0.0000e+00, 0.0000e+00, 0.0000e+00, 0.0000e+00,\n",
       "       0.0000e+00, 0.0000e+00, 1.0000e+00, 0.0000e+00, 0.0000e+00,\n",
       "       0.0000e+00])"
      ]
     },
     "execution_count": 259,
     "metadata": {},
     "output_type": "execute_result"
    }
   ],
   "source": [
    "X_train[0].round(3)"
   ]
  },
  {
   "cell_type": "code",
   "execution_count": 260,
   "id": "834d1d61-4caf-4c2b-a2bd-95227efd7f3f",
   "metadata": {},
   "outputs": [
    {
     "data": {
      "text/html": [
       "<style>#sk-container-id-21 {color: black;background-color: white;}#sk-container-id-21 pre{padding: 0;}#sk-container-id-21 div.sk-toggleable {background-color: white;}#sk-container-id-21 label.sk-toggleable__label {cursor: pointer;display: block;width: 100%;margin-bottom: 0;padding: 0.3em;box-sizing: border-box;text-align: center;}#sk-container-id-21 label.sk-toggleable__label-arrow:before {content: \"▸\";float: left;margin-right: 0.25em;color: #696969;}#sk-container-id-21 label.sk-toggleable__label-arrow:hover:before {color: black;}#sk-container-id-21 div.sk-estimator:hover label.sk-toggleable__label-arrow:before {color: black;}#sk-container-id-21 div.sk-toggleable__content {max-height: 0;max-width: 0;overflow: hidden;text-align: left;background-color: #f0f8ff;}#sk-container-id-21 div.sk-toggleable__content pre {margin: 0.2em;color: black;border-radius: 0.25em;background-color: #f0f8ff;}#sk-container-id-21 input.sk-toggleable__control:checked~div.sk-toggleable__content {max-height: 200px;max-width: 100%;overflow: auto;}#sk-container-id-21 input.sk-toggleable__control:checked~label.sk-toggleable__label-arrow:before {content: \"▾\";}#sk-container-id-21 div.sk-estimator input.sk-toggleable__control:checked~label.sk-toggleable__label {background-color: #d4ebff;}#sk-container-id-21 div.sk-label input.sk-toggleable__control:checked~label.sk-toggleable__label {background-color: #d4ebff;}#sk-container-id-21 input.sk-hidden--visually {border: 0;clip: rect(1px 1px 1px 1px);clip: rect(1px, 1px, 1px, 1px);height: 1px;margin: -1px;overflow: hidden;padding: 0;position: absolute;width: 1px;}#sk-container-id-21 div.sk-estimator {font-family: monospace;background-color: #f0f8ff;border: 1px dotted black;border-radius: 0.25em;box-sizing: border-box;margin-bottom: 0.5em;}#sk-container-id-21 div.sk-estimator:hover {background-color: #d4ebff;}#sk-container-id-21 div.sk-parallel-item::after {content: \"\";width: 100%;border-bottom: 1px solid gray;flex-grow: 1;}#sk-container-id-21 div.sk-label:hover label.sk-toggleable__label {background-color: #d4ebff;}#sk-container-id-21 div.sk-serial::before {content: \"\";position: absolute;border-left: 1px solid gray;box-sizing: border-box;top: 0;bottom: 0;left: 50%;z-index: 0;}#sk-container-id-21 div.sk-serial {display: flex;flex-direction: column;align-items: center;background-color: white;padding-right: 0.2em;padding-left: 0.2em;position: relative;}#sk-container-id-21 div.sk-item {position: relative;z-index: 1;}#sk-container-id-21 div.sk-parallel {display: flex;align-items: stretch;justify-content: center;background-color: white;position: relative;}#sk-container-id-21 div.sk-item::before, #sk-container-id-21 div.sk-parallel-item::before {content: \"\";position: absolute;border-left: 1px solid gray;box-sizing: border-box;top: 0;bottom: 0;left: 50%;z-index: -1;}#sk-container-id-21 div.sk-parallel-item {display: flex;flex-direction: column;z-index: 1;position: relative;background-color: white;}#sk-container-id-21 div.sk-parallel-item:first-child::after {align-self: flex-end;width: 50%;}#sk-container-id-21 div.sk-parallel-item:last-child::after {align-self: flex-start;width: 50%;}#sk-container-id-21 div.sk-parallel-item:only-child::after {width: 0;}#sk-container-id-21 div.sk-dashed-wrapped {border: 1px dashed gray;margin: 0 0.4em 0.5em 0.4em;box-sizing: border-box;padding-bottom: 0.4em;background-color: white;}#sk-container-id-21 div.sk-label label {font-family: monospace;font-weight: bold;display: inline-block;line-height: 1.2em;}#sk-container-id-21 div.sk-label-container {text-align: center;}#sk-container-id-21 div.sk-container {/* jupyter's `normalize.less` sets `[hidden] { display: none; }` but bootstrap.min.css set `[hidden] { display: none !important; }` so we also need the `!important` here to be able to override the default hidden behavior on the sphinx rendered scikit-learn.org. See: https://github.com/scikit-learn/scikit-learn/issues/21755 */display: inline-block !important;position: relative;}#sk-container-id-21 div.sk-text-repr-fallback {display: none;}</style><div id=\"sk-container-id-21\" class=\"sk-top-container\"><div class=\"sk-text-repr-fallback\"><pre>LogisticRegression(max_iter=1000, random_state=42, solver=&#x27;liblinear&#x27;)</pre><b>In a Jupyter environment, please rerun this cell to show the HTML representation or trust the notebook. <br />On GitHub, the HTML representation is unable to render, please try loading this page with nbviewer.org.</b></div><div class=\"sk-container\" hidden><div class=\"sk-item\"><div class=\"sk-estimator sk-toggleable\"><input class=\"sk-toggleable__control sk-hidden--visually\" id=\"sk-estimator-id-21\" type=\"checkbox\" checked><label for=\"sk-estimator-id-21\" class=\"sk-toggleable__label sk-toggleable__label-arrow\">LogisticRegression</label><div class=\"sk-toggleable__content\"><pre>LogisticRegression(max_iter=1000, random_state=42, solver=&#x27;liblinear&#x27;)</pre></div></div></div></div></div>"
      ],
      "text/plain": [
       "LogisticRegression(max_iter=1000, random_state=42, solver='liblinear')"
      ]
     },
     "execution_count": 260,
     "metadata": {},
     "output_type": "execute_result"
    }
   ],
   "source": [
    "from sklearn.linear_model import LogisticRegression\n",
    "model = LogisticRegression(solver='liblinear', C=1.0, max_iter=1000, random_state=42)\n",
    "model.fit(X_train, y_train)"
   ]
  },
  {
   "cell_type": "code",
   "execution_count": 261,
   "id": "d5779567-6d69-4b7f-b026-087c11d7769d",
   "metadata": {},
   "outputs": [
    {
     "data": {
      "text/plain": [
       "array([0.57914343, 0.87283491, 0.58816107, 0.51231211, 0.63666475,\n",
       "       0.75521068, 0.67660732, 0.80463891, 0.31931236, 0.52336705,\n",
       "       0.42762898, 0.75635962, 0.36365335, 0.479759  , 0.66891575,\n",
       "       0.79118098, 0.84805492, 0.75295599, 0.74242974, 0.44250074,\n",
       "       0.59299541, 0.71532757, 0.89505926, 0.40505602, 0.41274906,\n",
       "       0.49397089, 0.76167979, 0.54183228, 0.91299586, 0.84329958,\n",
       "       0.43502339, 0.8413228 , 0.45134426, 0.73331191, 0.69094239,\n",
       "       0.63501139, 0.78633979, 0.70340975, 0.31374645, 0.66994889,\n",
       "       0.81195513, 0.54070748, 0.52703678, 0.66105373, 0.89692378,\n",
       "       0.93952744, 0.6910381 , 0.57569838, 0.43601078, 0.58839132,\n",
       "       0.40836197, 0.62054107, 0.59360954, 0.80782455, 0.55881104,\n",
       "       0.89447257, 0.85676682, 0.3290991 , 0.88454471, 0.61158866,\n",
       "       0.55737895, 0.80158813, 0.29433961, 0.76846368, 0.26685382,\n",
       "       0.61036624, 0.70840796, 0.76184472, 0.88772862, 0.60724473,\n",
       "       0.74046877, 0.3967234 , 0.94279447, 0.89334272, 0.77167755,\n",
       "       0.46010978, 0.67939687, 0.78038502, 0.88118541, 0.32790051,\n",
       "       0.69468483, 0.86234034, 0.50374313, 0.39103763, 0.32306121,\n",
       "       0.85545275, 0.48720894, 0.67632879, 0.78732671, 0.38079651,\n",
       "       0.59358565, 0.67544782, 0.30673757, 0.70499097, 0.44562592,\n",
       "       0.50095966, 0.39025671, 0.57979674, 0.79141299, 0.40860451,\n",
       "       0.4564383 , 0.71245068, 0.79430415, 0.90384023, 0.93723436,\n",
       "       0.4562272 , 0.83198963, 0.62957342, 0.82184017, 0.64446096,\n",
       "       0.70354494, 0.78823594, 0.53732669, 0.97246708, 0.76882316,\n",
       "       0.83923905, 0.92056542, 0.90991368, 0.5666082 , 0.79495618,\n",
       "       0.71424507, 0.72871388, 0.88202923, 0.31647531, 0.62310118,\n",
       "       0.53315738, 0.48339274, 0.53331331, 0.6728357 , 0.22210659,\n",
       "       0.78780997, 0.8822551 , 0.37540642, 0.83354947, 0.79658948,\n",
       "       0.87218311, 0.58986564, 0.7881445 , 0.54464144, 0.64943427,\n",
       "       0.83673254, 0.70529277, 0.62778932, 0.91595373, 0.89533947,\n",
       "       0.80703982, 0.69395843, 0.70051545, 0.65076994, 0.67503474,\n",
       "       0.39746675, 0.80770481, 0.77188929, 0.5095436 , 0.88730545,\n",
       "       0.75819513, 0.5045081 , 0.49203641, 0.54599135, 0.91066188,\n",
       "       0.42575014, 0.35795824, 0.55471794, 0.37110939, 0.95301   ,\n",
       "       0.86933232, 0.82750614, 0.51482503, 0.76600278, 0.5368692 ,\n",
       "       0.5151582 , 0.70203437, 0.41173863, 0.6401107 , 0.83671727,\n",
       "       0.49741713, 0.73119403, 0.77493084, 0.60020822, 0.66534619,\n",
       "       0.89169291, 0.92526953, 0.8227775 , 0.89264571, 0.41916769,\n",
       "       0.55808164, 0.94868388, 0.98035455, 0.73357891, 0.74092642,\n",
       "       0.76248161, 0.78875553, 0.79195312, 0.60942241, 0.46495894,\n",
       "       0.45383059, 0.46102151, 0.52497684, 0.74991671, 0.7180742 ,\n",
       "       0.59466459, 0.90337361, 0.81677556, 0.41379031, 0.7213796 ,\n",
       "       0.53200293, 0.47037054, 0.77446857, 0.6571022 , 0.78996797,\n",
       "       0.58929036, 0.62670529, 0.74674227, 0.57204985, 0.50772305,\n",
       "       0.78434106, 0.49753781, 0.92650858, 0.66717605, 0.82930971,\n",
       "       0.27849025, 0.8383872 , 0.70574664, 0.77943445, 0.44579212,\n",
       "       0.58683387, 0.33665564, 0.48045674, 0.62588772, 0.57138677,\n",
       "       0.70536593, 0.86094641, 0.37186622, 0.9081487 , 0.4653939 ,\n",
       "       0.82449196, 0.92638351, 0.74685957, 0.50045738, 0.7817302 ,\n",
       "       0.75235931, 0.89114426, 0.66531575, 0.97683895, 0.41377048,\n",
       "       0.43440521, 0.49716034, 0.68331974, 0.45601093, 0.58124266,\n",
       "       0.75113466, 0.92727832, 0.53797851, 0.76054981, 0.67984845,\n",
       "       0.76143231, 0.48815564, 0.63747479, 0.91501538, 0.71484465,\n",
       "       0.52101877, 0.34543989, 0.68778279, 0.66327528, 0.349241  ,\n",
       "       0.80344068, 0.58915918, 0.78552125, 0.79199374, 0.61974344,\n",
       "       0.76631053, 0.87836656, 0.79724641, 0.92402755, 0.55020892,\n",
       "       0.45092438, 0.62583804, 0.65531824, 0.80936715, 0.65636775,\n",
       "       0.65111804, 0.48305591, 0.94750954, 0.4534997 , 0.48203422,\n",
       "       0.7311451 , 0.68613582, 0.81603779, 0.62506659, 0.66580813,\n",
       "       0.93700205, 0.59124434, 0.82114801, 0.7251609 , 0.87616175,\n",
       "       0.80548096, 0.30914096, 0.66246297, 0.81261052, 0.54572681,\n",
       "       0.72119565, 0.78389439, 0.68510344, 0.74104859, 0.57631463,\n",
       "       0.91129236, 0.42790666, 0.64297962, 0.72307819, 0.85809549,\n",
       "       0.73817233, 0.82191488, 0.658033  , 0.55835423, 0.53880069,\n",
       "       0.95375429, 0.6478169 , 0.66390641, 0.40386164, 0.77103971,\n",
       "       0.78974885, 0.59071675, 0.74052584, 0.54099116, 0.8354783 ,\n",
       "       0.57326926, 0.70459305, 0.36615028, 0.61830654, 0.67792963,\n",
       "       0.39475389, 0.95699683, 0.52354659, 0.64668951, 0.62993256,\n",
       "       0.80416639, 0.89454919, 0.62889736, 0.65443998, 0.30619713,\n",
       "       0.39763577, 0.36843545, 0.46423779, 0.8225309 , 0.4282264 ,\n",
       "       0.49058573, 0.7429782 , 0.91858505, 0.72376789, 0.63917958,\n",
       "       0.8421273 , 0.81909029, 0.85643589, 0.56207537, 0.48574397,\n",
       "       0.47510294, 0.85309382, 0.81980682, 0.53562621, 0.44865344,\n",
       "       0.42131364, 0.81797536, 0.75352078, 0.96003318, 0.43600243,\n",
       "       0.71495088, 0.41487135, 0.54398228, 0.91886855, 0.28870222,\n",
       "       0.84307866, 0.21716798, 0.62359366, 0.60945982, 0.68991705,\n",
       "       0.53599615, 0.66819846, 0.85731938, 0.82136734, 0.35048229,\n",
       "       0.58863114, 0.6852952 , 0.64803572, 0.6321406 , 0.40015197,\n",
       "       0.36408502, 0.65430442, 0.68343862, 0.61776603, 0.63568233,\n",
       "       0.91830456, 0.96197366, 0.50700927, 0.78022599, 0.39381424,\n",
       "       0.78334202, 0.87881419, 0.47988428, 0.41280845, 0.46033487,\n",
       "       0.58517225, 0.34929027, 0.81300045, 0.56612632, 0.93963847,\n",
       "       0.24311545, 0.83080697, 0.43752485, 0.91896708, 0.33422556,\n",
       "       0.57160769, 0.54928739, 0.69920946, 0.57757558, 0.50426064,\n",
       "       0.52719124, 0.53487682, 0.71499783, 0.54221557, 0.58558598,\n",
       "       0.73076178, 0.6937733 , 0.80025346, 0.93013528, 0.6601903 ,\n",
       "       0.87733993, 0.89712749, 0.29889815, 0.5951863 , 0.30609956,\n",
       "       0.53441195, 0.59983593, 0.33374562, 0.84181415, 0.9043013 ,\n",
       "       0.94730152, 0.91355978, 0.60528312, 0.84431286, 0.75198169,\n",
       "       0.55342853, 0.64940287, 0.45640793, 0.77498112, 0.90072753,\n",
       "       0.77691442, 0.88266312, 0.87003453, 0.68866988, 0.81435907,\n",
       "       0.69873774, 0.61001963, 0.49767872, 0.92277533, 0.76217608,\n",
       "       0.66918776, 0.51730068, 0.46608628, 0.89306671, 0.47493427,\n",
       "       0.83267768, 0.56224525, 0.56755895, 0.53977037, 0.72252344,\n",
       "       0.39205925, 0.81652092, 0.80442354, 0.49910074, 0.80016078,\n",
       "       0.78439911, 0.73632685, 0.71927   , 0.84753024, 0.57116701,\n",
       "       0.72907091, 0.71554524, 0.51580155, 0.59607538, 0.37946475,\n",
       "       0.63486895, 0.50375704, 0.70641626, 0.85380181, 0.59869949,\n",
       "       0.63712888, 0.79418653, 0.85053249, 0.73834347, 0.51969839,\n",
       "       0.52856544, 0.64534034, 0.86112424, 0.51325328, 0.64038857,\n",
       "       0.86313187, 0.91663842, 0.31256942, 0.209259  , 0.81180575,\n",
       "       0.61137331, 0.62673459, 0.7397803 , 0.78511355, 0.21618394,\n",
       "       0.29947297, 0.82234973, 0.73627896, 0.86069741, 0.66178171,\n",
       "       0.76011812, 0.71712398, 0.74670671, 0.52351029, 0.47246919,\n",
       "       0.61836602, 0.48914766, 0.69468676, 0.87455685, 0.65769561,\n",
       "       0.4704804 , 0.7800462 , 0.96183146, 0.5562668 , 0.59475825,\n",
       "       0.37281829, 0.67709549, 0.55629037, 0.82040978, 0.53384937,\n",
       "       0.69791537, 0.93183569, 0.83336025, 0.88642254, 0.78913666,\n",
       "       0.73635737, 0.46980347, 0.93815114, 0.36327428, 0.63149817,\n",
       "       0.75652009, 0.77991702, 0.49970748, 0.75069838, 0.53051421,\n",
       "       0.79796183, 0.94073494, 0.53982854, 0.7357469 , 0.56206828,\n",
       "       0.83995793, 0.95147427, 0.84591216, 0.58994539, 0.54027018,\n",
       "       0.59296995, 0.53566869, 0.57210613, 0.77920271, 0.6852917 ,\n",
       "       0.23917245, 0.72989192, 0.61264647, 0.61140812, 0.64892457,\n",
       "       0.93699403, 0.38427222, 0.61381783, 0.71570297, 0.40391343,\n",
       "       0.3133703 , 0.46209084, 0.56532161, 0.52704227, 0.63781035,\n",
       "       0.85167959, 0.74640144, 0.85801536, 0.81968356, 0.59322142,\n",
       "       0.60553184, 0.63046473, 0.51327382, 0.52482348, 0.57829725,\n",
       "       0.93015675, 0.67678021, 0.42957798, 0.5652901 , 0.48031612,\n",
       "       0.44902848, 0.74999389, 0.67906524, 0.563867  , 0.6407163 ,\n",
       "       0.82359358, 0.29338063, 0.84071292, 0.85389237, 0.83918457,\n",
       "       0.81901995, 0.85607127, 0.53849568, 0.6266007 , 0.74158331,\n",
       "       0.72357443, 0.81808975, 0.69388867, 0.61187306, 0.4085118 ,\n",
       "       0.62125053, 0.5875722 , 0.65639842, 0.59524938, 0.63287243,\n",
       "       0.8695439 , 0.55571858, 0.73581823, 0.89646548, 0.5254541 ,\n",
       "       0.85268452, 0.34136612, 0.81798637, 0.71942836, 0.6892756 ,\n",
       "       0.65549375, 0.53324755, 0.76521976, 0.60630018, 0.81496615,\n",
       "       0.86656722, 0.73305778, 0.51964534, 0.39425095, 0.93580529,\n",
       "       0.71944406, 0.38491696, 0.77000746, 0.66656801, 0.89592947,\n",
       "       0.62187821, 0.798916  , 0.69360446, 0.62119091, 0.62938047,\n",
       "       0.47609767, 0.9340556 , 0.82287455, 0.63728096, 0.57209005,\n",
       "       0.60259798, 0.53499232, 0.84311902, 0.90864528, 0.4639871 ,\n",
       "       0.82670174, 0.69728571, 0.86239722, 0.33713945, 0.3366868 ,\n",
       "       0.90825997, 0.75047404, 0.71993638, 0.886028  , 0.90904939,\n",
       "       0.75809096, 0.27978559, 0.76240231, 0.76269958, 0.79286229,\n",
       "       0.5962807 , 0.42220179, 0.85122604, 0.5778091 , 0.41599902,\n",
       "       0.81230406, 0.43181156, 0.9467138 , 0.80657182, 0.65064844,\n",
       "       0.4896838 , 0.60948159, 0.31923321, 0.92036303, 0.73032435,\n",
       "       0.78459155, 0.85867966, 0.74569856, 0.4186751 , 0.48620638,\n",
       "       0.69958529, 0.53907432, 0.79856199, 0.33777946, 0.27703713,\n",
       "       0.61091141, 0.63786699, 0.60229171, 0.533552  , 0.77872417,\n",
       "       0.42740771, 0.68791862, 0.45359489, 0.29877445, 0.54397931,\n",
       "       0.81861144, 0.94399673, 0.74093518, 0.63897907, 0.83053446,\n",
       "       0.37322795, 0.56301793, 0.65172192, 0.3405554 , 0.94771526,\n",
       "       0.7570422 , 0.47299191, 0.68926994, 0.863737  , 0.52831499,\n",
       "       0.77071392, 0.78181631, 0.56167827, 0.89081329, 0.37182475,\n",
       "       0.76171925, 0.65557157, 0.92182806, 0.56963737, 0.6855231 ,\n",
       "       0.57922639, 0.81654313, 0.96688089, 0.78569168, 0.92254438,\n",
       "       0.58539145, 0.72158789, 0.83999317, 0.51730122, 0.68316129,\n",
       "       0.27477631, 0.80838819, 0.52784624, 0.38477026, 0.72655517,\n",
       "       0.61564185, 0.57634272, 0.68017755, 0.92476626, 0.89515763,\n",
       "       0.34274544, 0.60550794, 0.34339836, 0.53670564, 0.50595473,\n",
       "       0.45326401, 0.90962147, 0.64984938, 0.7990733 , 0.58325116,\n",
       "       0.84669896, 0.40998232, 0.50259334, 0.90155221, 0.62003651,\n",
       "       0.9120442 , 0.90168663, 0.82294217, 0.69985528, 0.94489619,\n",
       "       0.53485582, 0.62416052, 0.69499153, 0.94438162, 0.78085733,\n",
       "       0.70802363, 0.57043829, 0.82406726, 0.9129544 , 0.67823741,\n",
       "       0.73488031, 0.97543   , 0.749413  , 0.60134713, 0.66735426,\n",
       "       0.78201043, 0.397099  , 0.49210578, 0.83888858, 0.65167933,\n",
       "       0.21521779, 0.43871434, 0.63902223, 0.59421479, 0.32242912,\n",
       "       0.63624922, 0.96456346, 0.75733704, 0.94475116, 0.60546969,\n",
       "       0.56312157, 0.70675231, 0.7834282 , 0.86244886, 0.80516175,\n",
       "       0.95246521, 0.61011384, 0.68848943, 0.61107723, 0.72494633,\n",
       "       0.81512194, 0.64461514, 0.82194546, 0.7157154 , 0.7689893 ,\n",
       "       0.78160783, 0.77753711, 0.80760179, 0.74222044, 0.79603167,\n",
       "       0.49930187, 0.40205724, 0.55735694, 0.65566548, 0.90049984,\n",
       "       0.77277604, 0.66528663, 0.73678841, 0.25978213, 0.48179175,\n",
       "       0.60803975, 0.46635055, 0.69965837, 0.63321174, 0.48333632,\n",
       "       0.87206338, 0.76558898, 0.82828424, 0.79686849, 0.6879814 ,\n",
       "       0.64792369, 0.89894872, 0.76237679, 0.90030806, 0.66719481,\n",
       "       0.6087189 , 0.54503626, 0.64771318, 0.63397905, 0.63981427,\n",
       "       0.56994716, 0.5108853 , 0.92605035, 0.7722184 , 0.50752571,\n",
       "       0.85939868, 0.65706158, 0.42255266, 0.97034999, 0.88692432,\n",
       "       0.55109971, 0.80778297, 0.71530345, 0.66440285, 0.40095272,\n",
       "       0.83145548, 0.81580803, 0.76535908, 0.8367225 , 0.90890492,\n",
       "       0.93286963, 0.70546247, 0.59772861, 0.74734216, 0.6697843 ,\n",
       "       0.85592177])"
      ]
     },
     "execution_count": 261,
     "metadata": {},
     "output_type": "execute_result"
    }
   ],
   "source": [
    "model.predict_proba(X_train)[:,1]"
   ]
  },
  {
   "cell_type": "code",
   "execution_count": 262,
   "id": "0c82cb4a-0780-4823-9cd6-399ed9465384",
   "metadata": {},
   "outputs": [
    {
     "data": {
      "text/plain": [
       "array([0.61192163, 0.79982617, 0.53021344, 0.47131479, 0.57066131,\n",
       "       0.44227168, 0.87127669, 0.84883115, 0.83290037, 0.61497801,\n",
       "       0.54968026, 0.78153088, 0.69039786, 0.77017122, 0.5265944 ,\n",
       "       0.91706425, 0.53170635, 0.42123048, 0.30146455, 0.84881583,\n",
       "       0.79488653, 0.73670375, 0.44527211, 0.64838383, 0.4176882 ,\n",
       "       0.75393418, 0.90166116, 0.33903049, 0.43181431, 0.9680681 ,\n",
       "       0.92018714, 0.37487988, 0.652301  , 0.90650057, 0.75164116,\n",
       "       0.64202121, 0.82250075, 0.83375553, 0.659116  , 0.30978853,\n",
       "       0.78942264, 0.35546366, 0.96517758, 0.63389304, 0.51274195,\n",
       "       0.53230533, 0.82287785, 0.744074  , 0.73452313, 0.68955217,\n",
       "       0.46964443, 0.84539252, 0.55635243, 0.92637871, 0.65258021,\n",
       "       0.61526273, 0.63816995, 0.28304018, 0.48049824, 0.57890618,\n",
       "       0.35497342, 0.62175051, 0.38960778, 0.61156056, 0.85304278,\n",
       "       0.75430136, 0.89185954, 0.71946459, 0.95387623, 0.89209517,\n",
       "       0.75277087, 0.33850139, 0.61376593, 0.51622275, 0.64088937,\n",
       "       0.75978331, 0.89312076, 0.78234591, 0.57477802, 0.5230894 ,\n",
       "       0.75162464, 0.45636646, 0.81579585, 0.79382273, 0.62186002,\n",
       "       0.38948447, 0.92007346, 0.79436152, 0.61193788, 0.92647559,\n",
       "       0.7532528 , 0.57044193, 0.60565302, 0.76845366, 0.38660133,\n",
       "       0.93682835, 0.61558548, 0.7075394 , 0.7152201 , 0.71516419,\n",
       "       0.44374301, 0.48499556, 0.67041977, 0.70904814, 0.82122296,\n",
       "       0.79831792, 0.67657162, 0.59618167, 0.89175505, 0.60625291,\n",
       "       0.89674478, 0.69110012, 0.51519179, 0.4534051 , 0.63343365,\n",
       "       0.44558105, 0.66397066, 0.43666539, 0.69973631, 0.86966748,\n",
       "       0.40270565, 0.51017111, 0.62044177, 0.49161764, 0.69763127,\n",
       "       0.84622133, 0.40511013, 0.8434733 , 0.58804712, 0.85510615,\n",
       "       0.78815289, 0.80972924, 0.46004387, 0.55454589, 0.710231  ,\n",
       "       0.6149092 , 0.8620587 , 0.80475326, 0.60929425, 0.64441176,\n",
       "       0.55193313, 0.56760374, 0.5189335 , 0.72588229, 0.43004304,\n",
       "       0.2335797 , 0.70913055, 0.65040711, 0.94584621, 0.80652896,\n",
       "       0.69385395, 0.84217287, 0.89857224, 0.81893745, 0.52454436,\n",
       "       0.20195451, 0.56625199, 0.68160026, 0.3403019 , 0.80604684,\n",
       "       0.63864617, 0.85564637, 0.68426835, 0.37189509, 0.80873426,\n",
       "       0.83353728, 0.57467065, 0.81205325, 0.89732588, 0.73063986,\n",
       "       0.84500549, 0.68754096, 0.71582287, 0.49433921, 0.97093498,\n",
       "       0.42301875, 0.65465869, 0.50337352, 0.74494469, 0.70435297,\n",
       "       0.42884458, 0.54067721, 0.9170997 , 0.77365808, 0.64111688,\n",
       "       0.79011373, 0.54247837, 0.70202188, 0.72011974, 0.38598602,\n",
       "       0.6959215 , 0.76405477, 0.65126882, 0.63900213, 0.60765874,\n",
       "       0.42556846, 0.61605736, 0.63253075, 0.72132219, 0.8476384 ,\n",
       "       0.95845895, 0.72579398, 0.6627304 , 0.63394997, 0.69328102,\n",
       "       0.60818049, 0.88179594, 0.50955311, 0.88148588, 0.78572171,\n",
       "       0.69259702, 0.68330629, 0.71612897, 0.89014221, 0.61044278,\n",
       "       0.68285388, 0.79608345, 0.47246864, 0.47659122, 0.76818505,\n",
       "       0.43447286, 0.70724523, 0.36109338, 0.579389  , 0.73605298,\n",
       "       0.76649051, 0.75111501, 0.62857191, 0.22737562, 0.47678569,\n",
       "       0.53883901, 0.86006692, 0.37612697, 0.6394794 , 0.75219559,\n",
       "       0.80887335, 0.31111035, 0.61636051, 0.90794031, 0.72784109,\n",
       "       0.78162752, 0.56678099, 0.74946254, 0.7027016 , 0.86992245,\n",
       "       0.67511883, 0.47335166, 0.69184932, 0.89716906, 0.66349785,\n",
       "       0.46590693, 0.94124351, 0.85630564, 0.56838374, 0.81947659,\n",
       "       0.6680171 , 0.36038828, 0.75894396, 0.77662923, 0.61460368,\n",
       "       0.97723436, 0.61226915, 0.50364538, 0.90815884, 0.69327873,\n",
       "       0.86960168, 0.59804182, 0.41516438, 0.79021628, 0.56825882,\n",
       "       0.33279425, 0.89712235, 0.35000606, 0.61107135, 0.72826373,\n",
       "       0.54979739, 0.33677256, 0.52340089, 0.67586911, 0.74368437,\n",
       "       0.74362153, 0.43833658, 0.50241571, 0.58146964, 0.71617207,\n",
       "       0.78841886, 0.73323106, 0.85389893, 0.41934248, 0.71053898,\n",
       "       0.41818501, 0.74483516, 0.43291316])"
      ]
     },
     "execution_count": 262,
     "metadata": {},
     "output_type": "execute_result"
    }
   ],
   "source": [
    "y_pred = model.predict_proba(X_val)[:,1]\n",
    "y_pred"
   ]
  },
  {
   "cell_type": "code",
   "execution_count": 263,
   "id": "b779324d-ec45-47eb-9356-d8c9c4d6031d",
   "metadata": {},
   "outputs": [],
   "source": [
    "converted_decision = (y_pred >= 0.5)"
   ]
  },
  {
   "cell_type": "code",
   "execution_count": 264,
   "id": "4a676e3a-5e0a-4bc3-b56e-c65db9ea87f2",
   "metadata": {},
   "outputs": [
    {
     "data": {
      "text/plain": [
       "0.6996587030716723"
      ]
     },
     "execution_count": 264,
     "metadata": {},
     "output_type": "execute_result"
    }
   ],
   "source": [
    "(y_val == converted_decision).mean()"
   ]
  },
  {
   "cell_type": "markdown",
   "id": "7c0078d4-23f7-497b-9e9f-a1a80eab73c0",
   "metadata": {},
   "source": [
    "Question 5\n",
    "\n",
    "    Let's find the least useful feature using the feature elimination technique.\n",
    "    Train a model using the same features and parameters as in Q4 (without rounding).\n",
    "    Now exclude each feature from this set and train a model without it. Record the accuracy for each model.\n",
    "    For each feature, calculate the difference between the original accuracy and the accuracy without the feature.\n",
    "\n",
    "Which of following feature has the smallest difference?\n",
    "\n",
    "    'industry'\n",
    "    'employment_status'\n",
    "    'lead_score'\n"
   ]
  },
  {
   "cell_type": "code",
   "execution_count": 265,
   "id": "c72b458b-e445-4d71-816c-f86073cbfbe1",
   "metadata": {},
   "outputs": [
    {
     "data": {
      "text/plain": [
       "{'annual_income': -0.0,\n",
       " 'employment_status=NA': -0.015,\n",
       " 'employment_status=employed': 0.034,\n",
       " 'employment_status=self_employed': 0.003,\n",
       " 'employment_status=student': 0.012,\n",
       " 'employment_status=unemployed': -0.103,\n",
       " 'industry=NA': -0.025,\n",
       " 'industry=education': 0.049,\n",
       " 'industry=finance': -0.02,\n",
       " 'industry=healthcare': -0.013,\n",
       " 'industry=manufacturing': -0.003,\n",
       " 'industry=other': -0.009,\n",
       " 'industry=retail': -0.032,\n",
       " 'industry=technology': -0.016,\n",
       " 'interaction_count': 0.311,\n",
       " 'lead_score': 0.051,\n",
       " 'lead_source=NA': 0.02,\n",
       " 'lead_source=events': -0.012,\n",
       " 'lead_source=organic_search': -0.012,\n",
       " 'lead_source=paid_ads': -0.115,\n",
       " 'lead_source=referral': 0.08,\n",
       " 'lead_source=social_media': -0.03,\n",
       " 'location=NA': 0.004,\n",
       " 'location=africa': -0.011,\n",
       " 'location=asia': -0.011,\n",
       " 'location=australia': -0.006,\n",
       " 'location=europe': 0.008,\n",
       " 'location=middle_east': 0.006,\n",
       " 'location=north_america': -0.033,\n",
       " 'location=south_america': -0.025,\n",
       " 'number_of_courses_viewed': 0.454}"
      ]
     },
     "execution_count": 265,
     "metadata": {},
     "output_type": "execute_result"
    }
   ],
   "source": [
    "dict(zip(dv.get_feature_names_out(), model.coef_[0].round(3)))"
   ]
  },
  {
   "cell_type": "markdown",
   "id": "24da8334-928b-48d6-abfe-aa195254876a",
   "metadata": {},
   "source": [
    "'industry'\n",
    "'employment_status'\n",
    "'lead_score'"
   ]
  },
  {
   "cell_type": "code",
   "execution_count": 266,
   "id": "c73b1c87-9ae2-45b3-a98e-3e7f7901272d",
   "metadata": {},
   "outputs": [
    {
     "data": {
      "text/plain": [
       "Index(['lead_source', 'industry', 'number_of_courses_viewed', 'annual_income',\n",
       "       'employment_status', 'location', 'interaction_count', 'lead_score'],\n",
       "      dtype='object')"
      ]
     },
     "execution_count": 266,
     "metadata": {},
     "output_type": "execute_result"
    }
   ],
   "source": [
    "df_train.columns"
   ]
  },
  {
   "cell_type": "code",
   "execution_count": 267,
   "id": "5791ac57-c812-4a49-bed6-a069f39f9799",
   "metadata": {},
   "outputs": [],
   "source": [
    "small_industry = ['lead_source', 'number_of_courses_viewed', 'annual_income',\n",
    "       'employment_status', 'location', 'interaction_count', 'lead_score']\n",
    "small_employment = ['lead_source', 'industry', 'number_of_courses_viewed', 'annual_income',\n",
    "        'location', 'interaction_count', 'lead_score']\n",
    "small_lead = ['lead_source', 'industry', 'number_of_courses_viewed', 'annual_income',\n",
    "       'employment_status', 'location', 'interaction_count']"
   ]
  },
  {
   "cell_type": "markdown",
   "id": "ede75659-b86c-4357-9bd8-db5c6f90554c",
   "metadata": {},
   "source": [
    "INDUSTRY DF"
   ]
  },
  {
   "cell_type": "code",
   "execution_count": 275,
   "id": "e8245b03-57a3-460f-ac48-5afc9690c401",
   "metadata": {},
   "outputs": [
    {
     "data": {
      "text/html": [
       "<style>#sk-container-id-24 {color: black;background-color: white;}#sk-container-id-24 pre{padding: 0;}#sk-container-id-24 div.sk-toggleable {background-color: white;}#sk-container-id-24 label.sk-toggleable__label {cursor: pointer;display: block;width: 100%;margin-bottom: 0;padding: 0.3em;box-sizing: border-box;text-align: center;}#sk-container-id-24 label.sk-toggleable__label-arrow:before {content: \"▸\";float: left;margin-right: 0.25em;color: #696969;}#sk-container-id-24 label.sk-toggleable__label-arrow:hover:before {color: black;}#sk-container-id-24 div.sk-estimator:hover label.sk-toggleable__label-arrow:before {color: black;}#sk-container-id-24 div.sk-toggleable__content {max-height: 0;max-width: 0;overflow: hidden;text-align: left;background-color: #f0f8ff;}#sk-container-id-24 div.sk-toggleable__content pre {margin: 0.2em;color: black;border-radius: 0.25em;background-color: #f0f8ff;}#sk-container-id-24 input.sk-toggleable__control:checked~div.sk-toggleable__content {max-height: 200px;max-width: 100%;overflow: auto;}#sk-container-id-24 input.sk-toggleable__control:checked~label.sk-toggleable__label-arrow:before {content: \"▾\";}#sk-container-id-24 div.sk-estimator input.sk-toggleable__control:checked~label.sk-toggleable__label {background-color: #d4ebff;}#sk-container-id-24 div.sk-label input.sk-toggleable__control:checked~label.sk-toggleable__label {background-color: #d4ebff;}#sk-container-id-24 input.sk-hidden--visually {border: 0;clip: rect(1px 1px 1px 1px);clip: rect(1px, 1px, 1px, 1px);height: 1px;margin: -1px;overflow: hidden;padding: 0;position: absolute;width: 1px;}#sk-container-id-24 div.sk-estimator {font-family: monospace;background-color: #f0f8ff;border: 1px dotted black;border-radius: 0.25em;box-sizing: border-box;margin-bottom: 0.5em;}#sk-container-id-24 div.sk-estimator:hover {background-color: #d4ebff;}#sk-container-id-24 div.sk-parallel-item::after {content: \"\";width: 100%;border-bottom: 1px solid gray;flex-grow: 1;}#sk-container-id-24 div.sk-label:hover label.sk-toggleable__label {background-color: #d4ebff;}#sk-container-id-24 div.sk-serial::before {content: \"\";position: absolute;border-left: 1px solid gray;box-sizing: border-box;top: 0;bottom: 0;left: 50%;z-index: 0;}#sk-container-id-24 div.sk-serial {display: flex;flex-direction: column;align-items: center;background-color: white;padding-right: 0.2em;padding-left: 0.2em;position: relative;}#sk-container-id-24 div.sk-item {position: relative;z-index: 1;}#sk-container-id-24 div.sk-parallel {display: flex;align-items: stretch;justify-content: center;background-color: white;position: relative;}#sk-container-id-24 div.sk-item::before, #sk-container-id-24 div.sk-parallel-item::before {content: \"\";position: absolute;border-left: 1px solid gray;box-sizing: border-box;top: 0;bottom: 0;left: 50%;z-index: -1;}#sk-container-id-24 div.sk-parallel-item {display: flex;flex-direction: column;z-index: 1;position: relative;background-color: white;}#sk-container-id-24 div.sk-parallel-item:first-child::after {align-self: flex-end;width: 50%;}#sk-container-id-24 div.sk-parallel-item:last-child::after {align-self: flex-start;width: 50%;}#sk-container-id-24 div.sk-parallel-item:only-child::after {width: 0;}#sk-container-id-24 div.sk-dashed-wrapped {border: 1px dashed gray;margin: 0 0.4em 0.5em 0.4em;box-sizing: border-box;padding-bottom: 0.4em;background-color: white;}#sk-container-id-24 div.sk-label label {font-family: monospace;font-weight: bold;display: inline-block;line-height: 1.2em;}#sk-container-id-24 div.sk-label-container {text-align: center;}#sk-container-id-24 div.sk-container {/* jupyter's `normalize.less` sets `[hidden] { display: none; }` but bootstrap.min.css set `[hidden] { display: none !important; }` so we also need the `!important` here to be able to override the default hidden behavior on the sphinx rendered scikit-learn.org. See: https://github.com/scikit-learn/scikit-learn/issues/21755 */display: inline-block !important;position: relative;}#sk-container-id-24 div.sk-text-repr-fallback {display: none;}</style><div id=\"sk-container-id-24\" class=\"sk-top-container\"><div class=\"sk-text-repr-fallback\"><pre>DictVectorizer(sparse=False)</pre><b>In a Jupyter environment, please rerun this cell to show the HTML representation or trust the notebook. <br />On GitHub, the HTML representation is unable to render, please try loading this page with nbviewer.org.</b></div><div class=\"sk-container\" hidden><div class=\"sk-item\"><div class=\"sk-estimator sk-toggleable\"><input class=\"sk-toggleable__control sk-hidden--visually\" id=\"sk-estimator-id-24\" type=\"checkbox\" checked><label for=\"sk-estimator-id-24\" class=\"sk-toggleable__label sk-toggleable__label-arrow\">DictVectorizer</label><div class=\"sk-toggleable__content\"><pre>DictVectorizer(sparse=False)</pre></div></div></div></div></div>"
      ],
      "text/plain": [
       "DictVectorizer(sparse=False)"
      ]
     },
     "execution_count": 275,
     "metadata": {},
     "output_type": "execute_result"
    }
   ],
   "source": [
    "dicts_train_small = df_train[small_industry].to_dict(orient= 'records')\n",
    "dicts_val_small = df_val[small_industry].to_dict(orient= 'records')\n",
    "dv_small = DictVectorizer(sparse= False)\n",
    "dv_small.fit(dicts_train_small)\n",
    "dv_small.fit(dicts_val_small)"
   ]
  },
  {
   "cell_type": "code",
   "execution_count": 276,
   "id": "5f64216e-453d-4458-a2e7-a9afc5db2534",
   "metadata": {},
   "outputs": [
    {
     "data": {
      "text/html": [
       "<style>#sk-container-id-25 {color: black;background-color: white;}#sk-container-id-25 pre{padding: 0;}#sk-container-id-25 div.sk-toggleable {background-color: white;}#sk-container-id-25 label.sk-toggleable__label {cursor: pointer;display: block;width: 100%;margin-bottom: 0;padding: 0.3em;box-sizing: border-box;text-align: center;}#sk-container-id-25 label.sk-toggleable__label-arrow:before {content: \"▸\";float: left;margin-right: 0.25em;color: #696969;}#sk-container-id-25 label.sk-toggleable__label-arrow:hover:before {color: black;}#sk-container-id-25 div.sk-estimator:hover label.sk-toggleable__label-arrow:before {color: black;}#sk-container-id-25 div.sk-toggleable__content {max-height: 0;max-width: 0;overflow: hidden;text-align: left;background-color: #f0f8ff;}#sk-container-id-25 div.sk-toggleable__content pre {margin: 0.2em;color: black;border-radius: 0.25em;background-color: #f0f8ff;}#sk-container-id-25 input.sk-toggleable__control:checked~div.sk-toggleable__content {max-height: 200px;max-width: 100%;overflow: auto;}#sk-container-id-25 input.sk-toggleable__control:checked~label.sk-toggleable__label-arrow:before {content: \"▾\";}#sk-container-id-25 div.sk-estimator input.sk-toggleable__control:checked~label.sk-toggleable__label {background-color: #d4ebff;}#sk-container-id-25 div.sk-label input.sk-toggleable__control:checked~label.sk-toggleable__label {background-color: #d4ebff;}#sk-container-id-25 input.sk-hidden--visually {border: 0;clip: rect(1px 1px 1px 1px);clip: rect(1px, 1px, 1px, 1px);height: 1px;margin: -1px;overflow: hidden;padding: 0;position: absolute;width: 1px;}#sk-container-id-25 div.sk-estimator {font-family: monospace;background-color: #f0f8ff;border: 1px dotted black;border-radius: 0.25em;box-sizing: border-box;margin-bottom: 0.5em;}#sk-container-id-25 div.sk-estimator:hover {background-color: #d4ebff;}#sk-container-id-25 div.sk-parallel-item::after {content: \"\";width: 100%;border-bottom: 1px solid gray;flex-grow: 1;}#sk-container-id-25 div.sk-label:hover label.sk-toggleable__label {background-color: #d4ebff;}#sk-container-id-25 div.sk-serial::before {content: \"\";position: absolute;border-left: 1px solid gray;box-sizing: border-box;top: 0;bottom: 0;left: 50%;z-index: 0;}#sk-container-id-25 div.sk-serial {display: flex;flex-direction: column;align-items: center;background-color: white;padding-right: 0.2em;padding-left: 0.2em;position: relative;}#sk-container-id-25 div.sk-item {position: relative;z-index: 1;}#sk-container-id-25 div.sk-parallel {display: flex;align-items: stretch;justify-content: center;background-color: white;position: relative;}#sk-container-id-25 div.sk-item::before, #sk-container-id-25 div.sk-parallel-item::before {content: \"\";position: absolute;border-left: 1px solid gray;box-sizing: border-box;top: 0;bottom: 0;left: 50%;z-index: -1;}#sk-container-id-25 div.sk-parallel-item {display: flex;flex-direction: column;z-index: 1;position: relative;background-color: white;}#sk-container-id-25 div.sk-parallel-item:first-child::after {align-self: flex-end;width: 50%;}#sk-container-id-25 div.sk-parallel-item:last-child::after {align-self: flex-start;width: 50%;}#sk-container-id-25 div.sk-parallel-item:only-child::after {width: 0;}#sk-container-id-25 div.sk-dashed-wrapped {border: 1px dashed gray;margin: 0 0.4em 0.5em 0.4em;box-sizing: border-box;padding-bottom: 0.4em;background-color: white;}#sk-container-id-25 div.sk-label label {font-family: monospace;font-weight: bold;display: inline-block;line-height: 1.2em;}#sk-container-id-25 div.sk-label-container {text-align: center;}#sk-container-id-25 div.sk-container {/* jupyter's `normalize.less` sets `[hidden] { display: none; }` but bootstrap.min.css set `[hidden] { display: none !important; }` so we also need the `!important` here to be able to override the default hidden behavior on the sphinx rendered scikit-learn.org. See: https://github.com/scikit-learn/scikit-learn/issues/21755 */display: inline-block !important;position: relative;}#sk-container-id-25 div.sk-text-repr-fallback {display: none;}</style><div id=\"sk-container-id-25\" class=\"sk-top-container\"><div class=\"sk-text-repr-fallback\"><pre>LogisticRegression(max_iter=1000, random_state=42, solver=&#x27;liblinear&#x27;)</pre><b>In a Jupyter environment, please rerun this cell to show the HTML representation or trust the notebook. <br />On GitHub, the HTML representation is unable to render, please try loading this page with nbviewer.org.</b></div><div class=\"sk-container\" hidden><div class=\"sk-item\"><div class=\"sk-estimator sk-toggleable\"><input class=\"sk-toggleable__control sk-hidden--visually\" id=\"sk-estimator-id-25\" type=\"checkbox\" checked><label for=\"sk-estimator-id-25\" class=\"sk-toggleable__label sk-toggleable__label-arrow\">LogisticRegression</label><div class=\"sk-toggleable__content\"><pre>LogisticRegression(max_iter=1000, random_state=42, solver=&#x27;liblinear&#x27;)</pre></div></div></div></div></div>"
      ],
      "text/plain": [
       "LogisticRegression(max_iter=1000, random_state=42, solver='liblinear')"
      ]
     },
     "execution_count": 276,
     "metadata": {},
     "output_type": "execute_result"
    }
   ],
   "source": [
    "X_train_small = dv_small.transform(dicts_train_small)\n",
    "X_val_small = dv_small.transform(dicts_val_small)\n",
    "model_small = LogisticRegression(solver='liblinear', C=1.0, max_iter=1000, random_state=42)\n",
    "model_small.fit(X_train_small, y_train)"
   ]
  },
  {
   "cell_type": "markdown",
   "id": "0763d67a-f892-4487-9d5f-1227644ae349",
   "metadata": {},
   "source": [
    "6996587030716723"
   ]
  },
  {
   "cell_type": "code",
   "execution_count": 277,
   "id": "10a97928-84ed-4c79-9496-2a3cf42f1e65",
   "metadata": {},
   "outputs": [
    {
     "data": {
      "text/plain": [
       "0.6996587030716723"
      ]
     },
     "execution_count": 277,
     "metadata": {},
     "output_type": "execute_result"
    }
   ],
   "source": [
    "y_pred = model_small.predict_proba(X_val_small)[:,1]\n",
    "converted_decision = (y_pred >= 0.5)\n",
    "(y_val == converted_decision).mean()"
   ]
  },
  {
   "cell_type": "markdown",
   "id": "f93e0514-628a-438b-a2dc-20c9c7304aac",
   "metadata": {},
   "source": [
    "'employment_status'"
   ]
  },
  {
   "cell_type": "code",
   "execution_count": 273,
   "id": "16150207-81d8-4329-b523-cb82f6ecedde",
   "metadata": {},
   "outputs": [
    {
     "data": {
      "text/plain": [
       "0.6962457337883959"
      ]
     },
     "execution_count": 273,
     "metadata": {},
     "output_type": "execute_result"
    }
   ],
   "source": [
    "dicts_train_small = df_train[small_employment].to_dict(orient= 'records')\n",
    "dicts_val_small = df_val[small_employment].to_dict(orient= 'records')\n",
    "dv_small = DictVectorizer(sparse= False)\n",
    "dv_small.fit(dicts_train_small)\n",
    "dv_small.fit(dicts_val_small)\n",
    "X_train_small = dv_small.transform(dicts_train_small)\n",
    "X_val_small = dv_small.transform(dicts_val_small)\n",
    "model_small = LogisticRegression(solver='liblinear', C=1.0, max_iter=1000, random_state=42)\n",
    "model_small.fit(X_train_small, y_train)\n",
    "y_pred = model_small.predict_proba(X_val_small)[:,1]\n",
    "converted_decision = (y_pred >= 0.5)\n",
    "(y_val == converted_decision).mean()"
   ]
  },
  {
   "cell_type": "markdown",
   "id": "fc2457c0-62e9-496f-a1e0-63887cafca06",
   "metadata": {},
   "source": [
    "'lead_score'"
   ]
  },
  {
   "cell_type": "code",
   "execution_count": 278,
   "id": "4b98b572-54e2-43f9-9634-05d56372ef69",
   "metadata": {},
   "outputs": [
    {
     "data": {
      "text/plain": [
       "0.7064846416382252"
      ]
     },
     "execution_count": 278,
     "metadata": {},
     "output_type": "execute_result"
    }
   ],
   "source": [
    "dicts_train_small = df_train[small_lead].to_dict(orient= 'records')\n",
    "dicts_val_small = df_val[small_lead].to_dict(orient= 'records')\n",
    "dv_small = DictVectorizer(sparse= False)\n",
    "dv_small.fit(dicts_train_small)\n",
    "dv_small.fit(dicts_val_small)\n",
    "X_train_small = dv_small.transform(dicts_train_small)\n",
    "X_val_small = dv_small.transform(dicts_val_small)\n",
    "model_small = LogisticRegression(solver='liblinear', C=1.0, max_iter=1000, random_state=42)\n",
    "model_small.fit(X_train_small, y_train)\n",
    "y_pred = model_small.predict_proba(X_val_small)[:,1]\n",
    "converted_decision = (y_pred >= 0.5)\n",
    "(y_val == converted_decision).mean()"
   ]
  },
  {
   "cell_type": "code",
   "execution_count": null,
   "id": "4f0e2547-6c42-4b33-bc22-7e8339a5a7da",
   "metadata": {},
   "outputs": [],
   "source": []
  }
 ],
 "metadata": {
  "kernelspec": {
   "display_name": "Python 3 (ipykernel)",
   "language": "python",
   "name": "python3"
  },
  "language_info": {
   "codemirror_mode": {
    "name": "ipython",
    "version": 3
   },
   "file_extension": ".py",
   "mimetype": "text/x-python",
   "name": "python",
   "nbconvert_exporter": "python",
   "pygments_lexer": "ipython3",
   "version": "3.11.7"
  }
 },
 "nbformat": 4,
 "nbformat_minor": 5
}
