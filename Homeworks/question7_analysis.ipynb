{
 "cells": [
  {
   "cell_type": "code",
   "execution_count": 11,
   "id": "2e05e46b-6ba5-454e-aa6e-eb38e1d9b8c4",
   "metadata": {},
   "outputs": [
    {
     "name": "stdout",
     "output_type": "stream",
     "text": [
      "Pandas version: 2.1.4\n",
      "    engine_displacement  num_cylinders  horsepower  vehicle_weight  \\\n",
      "8                   250            1.0       174.0     2714.219310   \n",
      "12                  320            5.0       145.0     2783.868974   \n",
      "14                  200            6.0       160.0     3582.687368   \n",
      "20                  150            3.0       197.0     2231.808142   \n",
      "21                  160            4.0       133.0     2659.431451   \n",
      "\n",
      "    acceleration  model_year origin fuel_type         drivetrain  num_doors  \\\n",
      "8           10.3        2016   Asia    Diesel  Front-wheel drive       -1.0   \n",
      "12          15.1        2010   Asia    Diesel    All-wheel drive        1.0   \n",
      "14          14.9        2007   Asia    Diesel    All-wheel drive        0.0   \n",
      "20          18.7        2011   Asia  Gasoline  Front-wheel drive        1.0   \n",
      "21           NaN        2016   Asia  Gasoline  Front-wheel drive       -1.0   \n",
      "\n",
      "    fuel_efficiency_mpg  \n",
      "8             16.823554  \n",
      "12            16.175820  \n",
      "14            11.871091  \n",
      "20            18.889083  \n",
      "21            16.077730  \n",
      "xxxxxxxxxxxxxxxxxxxxxxxxxxxxxxxxxxxxxxxxxxxxxxxxxxxxxxxxxxxxxxxxxxxxxxxxxxxxxxxxxxxxxxxxxxxxxxxxxxxx\n",
      "[[2016.         2714.21930965]\n",
      " [2010.         2783.86897424]\n",
      " [2007.         3582.68736772]\n",
      " [2011.         2231.8081416 ]\n",
      " [2016.         2659.43145076]\n",
      " [2014.         2844.22753389]\n",
      " [2019.         3761.99403819]]\n",
      "0.52\n"
     ]
    }
   ],
   "source": [
    "import pandas as pd\n",
    "import numpy as np\n",
    "print(f\"Pandas version: {pd.__version__}\")\n",
    "# Read dataset file\n",
    "df_arq1 = pd.read_csv(\"/home/marcus-vinicius/Desktop/Python/Machine_Leaning_Zoomcamp/car_fuel_efficiency.csv\")\n",
    "# Select all the cars from Asia\n",
    "asia = df_arq1[df_arq1[\"origin\"] == \"Asia\"]\n",
    "print(asia.head())\n",
    "print(\"x\"*100)\n",
    "selected_col = asia[[\"model_year\", \"vehicle_weight\"]]\n",
    "print(np.array(selected_col.head(7)))\n",
    "# Underlying Numpy array of the first 7 values of collumns: \"vehicle_weight\" and \"model_year\"\n",
    "X = np.array(selected_col.head(7))\n",
    "TransposeX = X.T\n",
    "# Multiplication between the transpose of X and X\n",
    "XTX = TransposeX@X\n",
    "XTX_inv = np.linalg.inv(XTX)\n",
    "# Weight/target of my model\n",
    "y = np.array([1100, 1300, 800, 900, 1000, 1100, 1200])\n",
    "w = (XTX_inv @ TransposeX) @ y\n",
    "print(\"{:.2f}\".format(w.sum()))"
   ]
  },
  {
   "cell_type": "code",
   "execution_count": 14,
   "id": "c7666b94-70b3-474f-904e-e29bc2996005",
   "metadata": {},
   "outputs": [
    {
     "name": "stdout",
     "output_type": "stream",
     "text": [
      "[[2016.         2714.21930965]\n",
      " [2010.         2783.86897424]\n",
      " [2007.         3582.68736772]\n",
      " [2011.         2231.8081416 ]\n",
      " [2016.         2659.43145076]\n",
      " [2014.         2844.22753389]\n",
      " [2019.         3761.99403819]]\n",
      "xxxxxxxxxxxxxxxxxxxxxxxxxxxxxxxxxxxxxxxxxxxxxxxxxxxxxxxxxxxxxxxxxxxxxxxxxxxxxxxxxxxxxxxxxxxxxxxxxxxx\n",
      "[[2016.         2010.         2007.         2011.         2016.\n",
      "  2014.         2019.        ]\n",
      " [2714.21930965 2783.86897424 3582.68736772 2231.8081416  2659.43145076\n",
      "  2844.22753389 3761.99403819]]\n",
      "xxxxxxxxxxxxxxxxxxxxxxxxxxxxxxxxxxxxxxxxxxxxxxxxxxxxxxxxxxxxxxxxxxxxxxxxxxxxxxxxxxxxxxxxxxxxxxxxxxxx\n",
      "[[28373339.         41431216.50732678]\n",
      " [41431216.50732678 62248334.33150762]]\n",
      "xxxxxxxxxxxxxxxxxxxxxxxxxxxxxxxxxxxxxxxxxxxxxxxxxxxxxxxxxxxxxxxxxxxxxxxxxxxxxxxxxxxxxxxxxxxxxxxxxxxx\n",
      "[[ 1.25380877e-06 -8.34509443e-07]\n",
      " [-8.34509443e-07  5.71497081e-07]]\n",
      "xxxxxxxxxxxxxxxxxxxxxxxxxxxxxxxxxxxxxxxxxxxxxxxxxxxxxxxxxxxxxxxxxxxxxxxxxxxxxxxxxxxxxxxxxxxxxxxxxxxx\n",
      "[0.5049067  0.01386421]\n"
     ]
    }
   ],
   "source": [
    "X = np.array(selected_col.head(7))\n",
    "print(X)\n",
    "print(\"x\"*100)\n",
    "TransposeX = X.T\n",
    "print(TransposeX)\n",
    "print(\"x\"*100)\n",
    "XTX = TransposeX@X\n",
    "print(XTX)\n",
    "print(\"x\"*100)\n",
    "XTX_inv = np.linalg.inv(XTX)\n",
    "print(XTX_inv)\n",
    "print('x'*100)\n",
    "w = (XTX_inv @ TransposeX) @ y\n",
    "print(w)"
   ]
  },
  {
   "cell_type": "code",
   "execution_count": null,
   "id": "372e91dd-62d9-4a10-b129-49e42ae25b3a",
   "metadata": {},
   "outputs": [],
   "source": []
  }
 ],
 "metadata": {
  "kernelspec": {
   "display_name": "Python 3 (ipykernel)",
   "language": "python",
   "name": "python3"
  },
  "language_info": {
   "codemirror_mode": {
    "name": "ipython",
    "version": 3
   },
   "file_extension": ".py",
   "mimetype": "text/x-python",
   "name": "python",
   "nbconvert_exporter": "python",
   "pygments_lexer": "ipython3",
   "version": "3.11.7"
  }
 },
 "nbformat": 4,
 "nbformat_minor": 5
}
