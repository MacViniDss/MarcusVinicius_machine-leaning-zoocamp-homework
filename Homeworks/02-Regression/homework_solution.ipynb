{
 "cells": [
  {
   "cell_type": "code",
   "execution_count": 359,
   "id": "dffc8560-a523-4c25-8a7e-4456c50d0de2",
   "metadata": {},
   "outputs": [
    {
     "name": "stdout",
     "output_type": "stream",
     "text": [
      "<class 'pandas.core.frame.DataFrame'>\n",
      "RangeIndex: 9704 entries, 0 to 9703\n",
      "Data columns (total 11 columns):\n",
      " #   Column               Non-Null Count  Dtype  \n",
      "---  ------               --------------  -----  \n",
      " 0   engine_displacement  9704 non-null   int64  \n",
      " 1   num_cylinders        9222 non-null   float64\n",
      " 2   horsepower           8996 non-null   float64\n",
      " 3   vehicle_weight       9704 non-null   float64\n",
      " 4   acceleration         8774 non-null   float64\n",
      " 5   model_year           9704 non-null   int64  \n",
      " 6   origin               9704 non-null   object \n",
      " 7   fuel_type            9704 non-null   object \n",
      " 8   drivetrain           9704 non-null   object \n",
      " 9   num_doors            9202 non-null   float64\n",
      " 10  fuel_efficiency_mpg  9704 non-null   float64\n",
      "dtypes: float64(6), int64(2), object(3)\n",
      "memory usage: 834.1+ KB\n",
      "None\n"
     ]
    }
   ],
   "source": [
    "import pandas as pd\n",
    "import numpy as np\n",
    "# Reading dataset\n",
    "df = pd.read_csv(\"/home/marcus-vinicius/Desktop/Python/Machine_Leaning_Zoomcamp/car_fuel_efficiency2.csv\")\n",
    "print(df.info())"
   ]
  },
  {
   "cell_type": "raw",
   "id": "8e6900a5-00fd-4875-b4b3-e68d88a63afc",
   "metadata": {},
   "source": [
    "Question 1\n",
    "There's one column with missing values. What is it?"
   ]
  },
  {
   "cell_type": "code",
   "execution_count": 360,
   "id": "735deb83-9daa-4325-9ac1-68d3fd8e6555",
   "metadata": {},
   "outputs": [
    {
     "data": {
      "text/plain": [
       "engine_displacement    False\n",
       "horsepower              True\n",
       "vehicle_weight         False\n",
       "model_year             False\n",
       "fuel_efficiency_mpg    False\n",
       "dtype: bool"
      ]
     },
     "execution_count": 360,
     "metadata": {},
     "output_type": "execute_result"
    }
   ],
   "source": [
    "columns = [\n",
    "    \n",
    "    'engine_displacement',\n",
    "    'horsepower',\n",
    "    'vehicle_weight',\n",
    "    'model_year',\n",
    "    'fuel_efficiency_mpg'\n",
    "\n",
    "]\n",
    "\n",
    "df_col= df[columns]\n",
    "df_col.isnull().any()"
   ]
  },
  {
   "cell_type": "raw",
   "id": "dc15e2b0-e421-4095-a3c5-0acb7a1950a5",
   "metadata": {},
   "source": [
    "Question 2\n",
    "What's the median (50% percentile) for variable 'horsepower'?"
   ]
  },
  {
   "cell_type": "code",
   "execution_count": 361,
   "id": "28f0715e-b9cc-44dd-9d07-556f7185d800",
   "metadata": {},
   "outputs": [
    {
     "data": {
      "text/plain": [
       "(149.0, 149.65729212983547)"
      ]
     },
     "execution_count": 361,
     "metadata": {},
     "output_type": "execute_result"
    }
   ],
   "source": [
    "df_col['horsepower'].median(), df_col['horsepower'].mean() "
   ]
  },
  {
   "cell_type": "code",
   "execution_count": 362,
   "id": "0ceaf03b-3f64-42a1-91bc-31b630a2f998",
   "metadata": {},
   "outputs": [],
   "source": [
    "n = len(df_col)\n",
    "\n",
    "n_test = int(n*0.2)\n",
    "n_val = int(n*0.2)\n",
    "n_train = n - n_test - n_val\n",
    "\n",
    "idx = np.arange(n)\n",
    "np.random.seed(42)\n",
    "np.random.shuffle(idx)\n",
    "\n",
    "df_train = df_col.iloc[idx[:n_train]].reset_index(drop = True)\n",
    "df_val = df_col.iloc[idx[:n_val]].reset_index(drop = True)\n",
    "df_test = df_col.iloc[idx[:n_test]].reset_index(drop = True)"
   ]
  },
  {
   "cell_type": "raw",
   "id": "fe6afacf-dd52-4366-aa2e-34ae9a84c965",
   "metadata": {},
   "source": [
    "Question 3\n",
    "\n",
    "    We need to deal with missing values for the column from Q1.\n",
    "    We have two options: fill it with 0 or with the mean of this variable.\n",
    "    Try both options. For each, train a linear regression model without regularization using the code from the lessons.\n",
    "    For computing the mean, use the training only!\n",
    "    Use the validation dataset to evaluate the models and compare the RMSE of each option.\n",
    "    Round the RMSE scores to 2 decimal digits using round(score, 2)\n",
    "    Which option gives better RMSE?\n"
   ]
  },
  {
   "cell_type": "raw",
   "id": "0e09158a-5c9b-4f15-968c-7aaed4807f38",
   "metadata": {},
   "source": [
    " Option 1"
   ]
  },
  {
   "cell_type": "code",
   "execution_count": 363,
   "id": "845af7ec-8847-45e0-a075-9da941e8776b",
   "metadata": {},
   "outputs": [],
   "source": [
    "y_train = np.log1p(df_train.fuel_efficiency_mpg.values)\n",
    "y_test = np.log1p(df_test.fuel_efficiency_mpg.values)\n",
    "y_val = np.log1p(df_val.fuel_efficiency_mpg.values)\n",
    "# Deletting 'fuel_efficiency_mpg' col so we dont have 100% model\n",
    "del df_train['fuel_efficiency_mpg']\n",
    "del df_test['fuel_efficiency_mpg']\n",
    "del df_val['fuel_efficiency_mpg']"
   ]
  },
  {
   "cell_type": "code",
   "execution_count": 364,
   "id": "ba7c0c35-56ae-4812-bd30-4dfd344b7cba",
   "metadata": {},
   "outputs": [],
   "source": [
    "X_train = df_train.fillna(0).values\n",
    "X_val = df_val.fillna(0).values\n",
    "X_test = df_test.fillna(0).values"
   ]
  },
  {
   "cell_type": "code",
   "execution_count": 365,
   "id": "52808105-6d27-486d-91d6-c69b6e3a4a52",
   "metadata": {},
   "outputs": [],
   "source": [
    "def dot(xi, w):\n",
    "    n = len(xi)\n",
    "    res = 0.0\n",
    "\n",
    "    for j in range(n):\n",
    "        res = res + xi[j]*w[j]\n",
    "    \n",
    "    return res "
   ]
  },
  {
   "cell_type": "code",
   "execution_count": 366,
   "id": "95f70ced-d0bd-409c-b1fc-503ce00b4c13",
   "metadata": {},
   "outputs": [
    {
     "data": {
      "text/plain": [
       "(3.6646662473557985,\n",
       " array([ 2.14827083e-06,  2.21209296e-04, -3.23460699e-04,  1.64673231e-05]))"
      ]
     },
     "execution_count": 366,
     "metadata": {},
     "output_type": "execute_result"
    }
   ],
   "source": [
    "def train_linear_regression(X, y):\n",
    "    # New col of X\n",
    "    ones = np.ones(X.shape[0])\n",
    "    X = np.column_stack([ones, X])\n",
    "    # Matrix operations\n",
    "    XTX = X.T.dot(X)\n",
    "    XTX_inv = np.linalg.inv(XTX)\n",
    "    XTX.dot(XTX_inv).round(1)\n",
    "    # Normal equation\n",
    "    w_full = XTX_inv.dot(X.T).dot(y)\n",
    "\n",
    "    return w_full[0], w_full[1:]\n",
    "\n",
    "X_train = df_train.fillna(0).values\n",
    "w0, w = train_linear_regression(X_train, y_train)\n",
    "\n",
    "w0, w"
   ]
  },
  {
   "cell_type": "code",
   "execution_count": 367,
   "id": "0713e0fd-07ac-4297-a22f-70b6558792e1",
   "metadata": {},
   "outputs": [
    {
     "data": {
      "text/plain": [
       "array([2.90981589, 2.84278709, 2.93310627, ..., 2.92329662, 3.00305539,\n",
       "       2.94404905])"
      ]
     },
     "execution_count": 367,
     "metadata": {},
     "output_type": "execute_result"
    }
   ],
   "source": [
    "y_train_pred = w0 + X_train.dot(w)\n",
    "y_train_pred"
   ]
  },
  {
   "cell_type": "code",
   "execution_count": 368,
   "id": "6d77f849-c147-4dff-b233-cbb2713a652f",
   "metadata": {},
   "outputs": [
    {
     "data": {
      "text/plain": [
       "0.0390863253926525"
      ]
     },
     "execution_count": 368,
     "metadata": {},
     "output_type": "execute_result"
    }
   ],
   "source": [
    "def rmse(y, y_pred):\n",
    "    sq = (y - y_pred)**2\n",
    "    mse = sq.mean()\n",
    "    return np.sqrt(mse)\n",
    "\n",
    "rmse(y_train, y_train_pred)"
   ]
  },
  {
   "cell_type": "code",
   "execution_count": 369,
   "id": "6bb9dd10-e9f1-4d03-8940-c1d1f830b76b",
   "metadata": {},
   "outputs": [
    {
     "data": {
      "text/plain": [
       "0.03909202087549413"
      ]
     },
     "execution_count": 369,
     "metadata": {},
     "output_type": "execute_result"
    }
   ],
   "source": [
    "w0, w = train_linear_regression(X_train, y_train)\n",
    "y_val_pred = w0 + X_val.dot(w)\n",
    "rmse(y_val, y_val_pred)"
   ]
  },
  {
   "cell_type": "raw",
   "id": "a4086f54-96c1-44a9-86fd-94d2263294bb",
   "metadata": {},
   "source": [
    "Option 2"
   ]
  },
  {
   "cell_type": "code",
   "execution_count": 370,
   "id": "d2801021-ac0c-4fac-87f4-1efa9a025b8d",
   "metadata": {},
   "outputs": [
    {
     "data": {
      "text/plain": [
       "0.03581253276160714"
      ]
     },
     "execution_count": 370,
     "metadata": {},
     "output_type": "execute_result"
    }
   ],
   "source": [
    "X_train = df_train.fillna(149).values\n",
    "w0, w = train_linear_regression(X_train, y_train)\n",
    "y_train_pred = w0 + X_train.dot(w)\n",
    "rmse(y_train, y_train_pred)"
   ]
  },
  {
   "cell_type": "code",
   "execution_count": 371,
   "id": "6ad4ba77-0524-45ac-899b-b54e02fb087f",
   "metadata": {},
   "outputs": [
    {
     "data": {
      "text/plain": [
       "0.03541741870392893"
      ]
     },
     "execution_count": 371,
     "metadata": {},
     "output_type": "execute_result"
    }
   ],
   "source": [
    "X_val = df_val.fillna(149).values\n",
    "y_val_pred = w0 + X_val.dot(w)\n",
    "rmse(y_val, y_val_pred)"
   ]
  },
  {
   "cell_type": "raw",
   "id": "09042176-7296-4e18-9959-47008b7b4e6b",
   "metadata": {},
   "source": [
    "Question 4\n",
    "\n",
    "    Now let's train a regularized linear regression.\n",
    "    For this question, fill the NAs with 0.\n",
    "    Try different values of r from this list: [0, 0.01, 0.1, 1, 5, 10, 100].\n",
    "    Use RMSE to evaluate the model on the validation dataset.\n",
    "    Round the RMSE scores to 2 decimal digits.\n",
    "    Which r gives the best RMSE?\n"
   ]
  },
  {
   "cell_type": "code",
   "execution_count": 372,
   "id": "ef564e45-f33a-44ae-9644-9c3a32b23e41",
   "metadata": {},
   "outputs": [],
   "source": [
    "def train_linear_regression_reg(X, y, r):\n",
    "    # New col of X\n",
    "    ones = np.ones(X.shape[0])\n",
    "    X = np.column_stack([ones, X])\n",
    "    # Matrix operations\n",
    "    XTX = X.T.dot(X)\n",
    "    #Add r to all values in the diagonal\n",
    "    XTX = XTX + r * np.eye(XTX.shape[0])\n",
    "    XTX_inv = np.linalg.inv(XTX)\n",
    "    XTX.dot(XTX_inv).round(1)\n",
    "    # Normal equation\n",
    "    w_full = XTX_inv.dot(X.T).dot(y)\n",
    "\n",
    "    return w_full[0], w_full[1:]"
   ]
  },
  {
   "cell_type": "code",
   "execution_count": 373,
   "id": "735125ce-662d-452c-8447-464320661f78",
   "metadata": {},
   "outputs": [],
   "source": [
    "X_train = df_train.fillna(0).values"
   ]
  },
  {
   "cell_type": "code",
   "execution_count": 374,
   "id": "e75007ba-cee2-4f9e-93fd-716d986adb7c",
   "metadata": {},
   "outputs": [
    {
     "name": "stdout",
     "output_type": "stream",
     "text": [
      "0 0.03909202087549413\n",
      "0.01 0.039162091658291535\n",
      "0.1 0.03994102844855213\n",
      "1 0.04095010036686897\n",
      "5 0.04112507210838927\n",
      "10 0.041148736616890634\n",
      "100 0.04117040392671834\n"
     ]
    }
   ],
   "source": [
    "for r in [0, 0.01, 0.1, 1, 5, 10, 100]:\n",
    "    X_train = df_train.fillna(0).values\n",
    "    w0, w = train_linear_regression_reg(X_train, y_train, r)\n",
    "    X_val = df_val.fillna(0).values\n",
    "    y_val_pred = w0 + X_val.dot(w)\n",
    "    score = rmse(y_val, y_val_pred)\n",
    "    print(r, score)"
   ]
  },
  {
   "cell_type": "raw",
   "id": "dc89defb-18da-4353-a5b5-f4fe5ed62a30",
   "metadata": {},
   "source": [
    "Question 5\n",
    "\n",
    "    We used seed 42 for splitting the data. Let's find out how selecting the seed influences our score.\n",
    "    Try different seed values: [0, 1, 2, 3, 4, 5, 6, 7, 8, 9].\n",
    "    For each seed, do the train/validation/test split with 60%/20%/20% distribution.\n",
    "    Fill the missing values with 0 and train a model without regularization.\n",
    "    For each seed, evaluate the model on the validation dataset and collect the RMSE scores.\n",
    "    What's the standard deviation of all the scores? To compute the standard deviation, use np.std.\n",
    "    Round the result to 3 decimal digits (round(std, 3))\n"
   ]
  },
  {
   "cell_type": "code",
   "execution_count": 375,
   "id": "d934c370-7362-40f4-8d34-b9ff2af49189",
   "metadata": {},
   "outputs": [
    {
     "name": "stdout",
     "output_type": "stream",
     "text": [
      "[0.040195094727686884, 0.0393361067258708, 0.03940481794462767, 0.038241698193598565, 0.038640606128982735, 0.03743359660082332, 0.03933990503866994, 0.039091822043245454, 0.039607723048244725, 0.038353163832865494]\n"
     ]
    }
   ],
   "source": [
    "scores = []\n",
    "for seed in range(10):\n",
    "    idx = np.arange(n)\n",
    "    np.random.seed(seed)\n",
    "    np.random.shuffle(idx)\n",
    "\n",
    "    df_train = df_col.iloc[idx[:n_train]].reset_index(drop = True)\n",
    "    df_val = df_col.iloc[idx[:n_val]].reset_index(drop = True)\n",
    "    df_test = df_col.iloc[idx[:n_test]].reset_index(drop = True)\n",
    "\n",
    "    y_train = np.log1p(df_train.fuel_efficiency_mpg.values)\n",
    "    y_test = np.log1p(df_test.fuel_efficiency_mpg.values)\n",
    "    y_val = np.log1p(df_val.fuel_efficiency_mpg.values)\n",
    "    # Deletting 'fuel_efficiency_mpg' col so we dont have 100% model\n",
    "    del df_train['fuel_efficiency_mpg']\n",
    "    del df_test['fuel_efficiency_mpg']\n",
    "    del df_val['fuel_efficiency_mpg']\n",
    "    \n",
    "    X_train = df_train.fillna(0).values\n",
    "    X_val = df_val.fillna(0).values\n",
    "    X_test = df_test.fillna(0).values\n",
    "\n",
    "    w0, w = train_linear_regression(X_train, y_train)\n",
    "    y_train_pred = w0 + X_train.dot(w)\n",
    "    \n",
    "    y_val_pred = w0 + X_val.dot(w)\n",
    "    val_rmse = rmse(y_val, y_val_pred)\n",
    "    scores.append(val_rmse)\n",
    "    \n",
    "print(scores)"
   ]
  },
  {
   "cell_type": "code",
   "execution_count": 376,
   "id": "5ca03e11-a171-4ad7-9480-d25ba8eb7bb9",
   "metadata": {},
   "outputs": [
    {
     "name": "stdout",
     "output_type": "stream",
     "text": [
      "The RMSE scores are: [0.040195094727686884, 0.0393361067258708, 0.03940481794462767, 0.038241698193598565, 0.038640606128982735, 0.03743359660082332, 0.03933990503866994, 0.039091822043245454, 0.039607723048244725, 0.038353163832865494]\n",
      "The standard deviation of the scores is: 0.001\n"
     ]
    }
   ],
   "source": [
    "scores_array = np.array(scores)\n",
    "\n",
    "# Use np.std() to calculate the standard deviation\n",
    "std_dev = np.std(scores_array)\n",
    "\n",
    "print(f\"The RMSE scores are: {scores}\")\n",
    "print(f\"The standard deviation of the scores is: {std_dev:.3f}\")"
   ]
  },
  {
   "cell_type": "raw",
   "id": "a6113258-2f4e-449e-a52b-959096ff8991",
   "metadata": {},
   "source": [
    "Question 6\n",
    "\n",
    "    Split the dataset like previously, use seed 9.\n",
    "    Combine train and validation datasets.\n",
    "    Fill the missing values with 0 and train a model with r=0.001.\n",
    "    What's the RMSE on the test dataset?\n"
   ]
  },
  {
   "cell_type": "code",
   "execution_count": 377,
   "id": "707c6d04-1d0d-4938-a98a-722f8e966e4a",
   "metadata": {},
   "outputs": [
    {
     "name": "stdout",
     "output_type": "stream",
     "text": [
      "RMSE: 0.03834219659521162\n"
     ]
    }
   ],
   "source": [
    "idx = np.arange(n)\n",
    "np.random.seed(seed)\n",
    "np.random.shuffle(idx)\n",
    "\n",
    "\n",
    "def prepare_split(df):\n",
    "    y = np.log1p(df[\"fuel_efficiency_mpg\"].values)\n",
    "    X = df.drop(columns=[\"fuel_efficiency_mpg\"]).fillna(0).values\n",
    "    return X, y\n",
    "\n",
    "# splits\n",
    "df_train = df_col.iloc[idx[:n_train]].reset_index(drop=True)\n",
    "df_val   = df_col.iloc[idx[:n_val]].reset_index(drop=True)\n",
    "df_test  = df_col.iloc[idx[:n_test]].reset_index(drop=True)\n",
    "\n",
    "X_train, y_train = prepare_split(df_train)\n",
    "X_val,   y_val   = prepare_split(df_val)\n",
    "X_test,  y_test  = prepare_split(df_test)\n",
    "\n",
    "\n",
    "df_full_train = pd.concat([df_train, df_val]).reset_index(drop=True)\n",
    "X_full_train, y_full_train = prepare_split(df_full_train)\n",
    "\n",
    "\n",
    "w0, w = train_linear_regression_reg(X_full_train, y_full_train, 0.001)\n",
    "\n",
    "\n",
    "y_pred = w0 + X_test.dot(w)\n",
    "print(\"RMSE:\", rmse(y_test, y_pred))\n"
   ]
  },
  {
   "cell_type": "code",
   "execution_count": null,
   "id": "c059f978-3518-4a38-aae9-34f665fae6b8",
   "metadata": {},
   "outputs": [],
   "source": []
  }
 ],
 "metadata": {
  "kernelspec": {
   "display_name": "Python 3 (ipykernel)",
   "language": "python",
   "name": "python3"
  },
  "language_info": {
   "codemirror_mode": {
    "name": "ipython",
    "version": 3
   },
   "file_extension": ".py",
   "mimetype": "text/x-python",
   "name": "python",
   "nbconvert_exporter": "python",
   "pygments_lexer": "ipython3",
   "version": "3.11.7"
  }
 },
 "nbformat": 4,
 "nbformat_minor": 5
}
