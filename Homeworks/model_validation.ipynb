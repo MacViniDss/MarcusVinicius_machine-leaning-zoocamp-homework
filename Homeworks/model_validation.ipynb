{
 "cells": [
  {
   "cell_type": "code",
   "execution_count": 10,
   "id": "7304f17a-0ff9-4b01-af38-9cb17a807f40",
   "metadata": {},
   "outputs": [
    {
     "name": "stdout",
     "output_type": "stream",
     "text": [
      "make                  object\n",
      "model                 object\n",
      "year                   int64\n",
      "engine_fuel_type      object\n",
      "engine_hp            float64\n",
      "engine_cylinders     float64\n",
      "transmission_type     object\n",
      "driven_wheels         object\n",
      "number_of_doors      float64\n",
      "market_category       object\n",
      "vehicle_size          object\n",
      "vehicle_style         object\n",
      "highway_mpg            int64\n",
      "city_mpg               int64\n",
      "popularity             int64\n",
      "dtype: object\n"
     ]
    },
    {
     "name": "stderr",
     "output_type": "stream",
     "text": [
      "/home/marcus-vinicius/anaconda3/lib/python3.11/site-packages/seaborn/_oldcore.py:1119: FutureWarning: use_inf_as_na option is deprecated and will be removed in a future version. Convert inf values to NaN before operating instead.\n",
      "  with pd.option_context('mode.use_inf_as_na', True):\n",
      "/home/marcus-vinicius/anaconda3/lib/python3.11/site-packages/seaborn/_oldcore.py:1119: FutureWarning: use_inf_as_na option is deprecated and will be removed in a future version. Convert inf values to NaN before operating instead.\n",
      "  with pd.option_context('mode.use_inf_as_na', True):\n"
     ]
    },
    {
     "data": {
      "text/plain": [
       "<Axes: ylabel='Count'>"
      ]
     },
     "execution_count": 10,
     "metadata": {},
     "output_type": "execute_result"
    },
    {
     "data": {
      "image/png": "[encoded data removed]",
      "text/plain": [
       "<Figure size 640x480 with 1 Axes>"
      ]
     },
     "metadata": {},
     "output_type": "display_data"
    }
   ],
   "source": [
    "import pandas as pd\n",
    "import numpy as np\n",
    "import matplotlib.pyplot as plt\n",
    "import seaborn as sns\n",
    "%matplotlib inline\n",
    "\n",
    "# Reading dataset\n",
    "df_arq1 = pd.read_csv(\"/home/marcus-vinicius/Desktop/Python/Machine_Leaning_Zoomcamp/car_price_data.csv\")\n",
    "df_arq1.columns = df_arq1.columns.str.lower().str.replace(' ', '_')\n",
    "\n",
    "# Create a list that contains only the col with objects dtypes\n",
    "strings = list(df_arq1.dtypes[df_arq1.dtypes == 'object'].index)\n",
    "for col in strings:\n",
    "    df_arq1[col] = df_arq1[col].str.lower().str.replace(' ', '_')\n",
    "\n",
    "# Here we divided the Df into the train, test and validation values\n",
    "n = len(df_arq1)\n",
    "n_val = int(n * 0.2)\n",
    "n_test = int(n * 0.2)\n",
    "n_train = n - n_val - n_test\n",
    "# As you can see the Df are in order, for better accurancy the data should be random, we need to shuffle them \n",
    "df_train = df_arq1.iloc[n_train:]\n",
    "df_val = df_arq1.iloc[n_train: n_val + n_test]\n",
    "df_test = df_arq1.iloc[n_test + n_val:]\n",
    "# Shuffle the index of the Df then updating to a new df\n",
    "idx = np.arange(n)\n",
    "np.random.seed(2)\n",
    "np.random.shuffle(idx)\n",
    "\n",
    "df_train = df_arq1.iloc[idx[:n_train]]\n",
    "df_val = df_arq1.iloc[idx[n_train : n_train + n_test]]\n",
    "df_test = df_arq1.iloc[idx[n_train + n_val: ]]\n",
    "df_train = df_train.reset_index(drop = True)\n",
    "df_test = df_test.reset_index(drop = True)\n",
    "df_val = df_val.reset_index(drop = True)\n",
    "\n",
    "# Here we get our target values\n",
    "y_train = np.log1p(df_train.msrp.values)\n",
    "y_test = np.log1p(df_test.msrp.values)\n",
    "y_val = np.log1p(df_val.msrp.values)\n",
    "\n",
    "# Deletting 'msrp' col so we dont have 100% model\n",
    "del df_train['msrp']\n",
    "del df_test['msrp']\n",
    "del df_val['msrp']\n",
    "\n",
    "# Vector dot product\n",
    "def dot(xi, w):\n",
    "    n = len(xi)\n",
    "    res = 0.0\n",
    "\n",
    "    for j in range(n):\n",
    "        res = res + xi[j]*w[j]\n",
    "    \n",
    "    return res  \n",
    "\n",
    "# Normal equation\n",
    "def train_linear_regression(X, y):\n",
    "    # New col of X\n",
    "    ones = np.ones(X.shape[0])\n",
    "    X = np.column_stack([ones, X])\n",
    "    # Matrix operations\n",
    "    XTX = X.T.dot(X)\n",
    "    XTX_inv = np.linalg.inv(XTX)\n",
    "    XTX.dot(XTX_inv).round(1)\n",
    "    # Normal equation\n",
    "    w_full = XTX_inv.dot(X.T).dot(y)\n",
    "\n",
    "    return w_full[0], w_full[1:]\n",
    "\n",
    "# Looking for my base line features\n",
    "print(df_train.dtypes)\n",
    "base = ['engine_hp', 'engine_cylinders', 'highway_mpg', 'city_mpg', 'popularity']\n",
    "\n",
    "# we have some 'nan' values in the training df. finding those values and the replace them with 0\n",
    "def prepare_X(df):\n",
    "    df_num = df[base]\n",
    "    df_num = df_num.fillna(0)\n",
    "    X = df_num.values\n",
    "\n",
    "    return X\n",
    "\n",
    "X_train = prepare_X(df_train)\n",
    "w0, w = train_linear_regression(X_train, y_train)\n",
    "# our model training prediction\n",
    "y_pred = w0 + X_train.dot(w)\n",
    "\n",
    "# Comparing results and true values and You see from this plot that the model is not ideal\n",
    "sns.histplot(y_pred, color = 'red', alpha = 0.5, bins = 50)\n",
    "sns.histplot(y_train, color = 'blue', alpha = 0.5, bins = 50)"
   ]
  },
  {
   "cell_type": "code",
   "execution_count": 11,
   "id": "6605ec16-8779-41b9-a931-da94c85f9c71",
   "metadata": {},
   "outputs": [
    {
     "data": {
      "text/plain": [
       "0.7554192603920132"
      ]
     },
     "execution_count": 11,
     "metadata": {},
     "output_type": "execute_result"
    }
   ],
   "source": [
    "# Root mean squared error\n",
    "def rmse(y, y_pred):\n",
    "    sq = (y - y_pred)**2\n",
    "    mse = sq.mean()\n",
    "    return np.sqrt(mse)\n",
    "\n",
    "rmse(y_train, y_pred)"
   ]
  },
  {
   "cell_type": "code",
   "execution_count": 12,
   "id": "b7479ede-d3b2-49a8-b4e4-03d92a6b05ac",
   "metadata": {},
   "outputs": [
    {
     "data": {
      "text/plain": [
       "0.7616530991301591"
      ]
     },
     "execution_count": 12,
     "metadata": {},
     "output_type": "execute_result"
    }
   ],
   "source": [
    "# Validation prediction\n",
    "X_train = prepare_X(df_train)\n",
    "w0, w = train_linear_regression(X_train, y_train)\n",
    "X_val = prepare_X(df_val)\n",
    "y_pred = w0 + X_val.dot(w)\n",
    "rmse(y_val, y_pred)"
   ]
  },
  {
   "cell_type": "code",
   "execution_count": null,
   "id": "20d505db-31f5-48d0-be6c-79fe1286b8f5",
   "metadata": {},
   "outputs": [],
   "source": []
  }
 ],
 "metadata": {
  "kernelspec": {
   "display_name": "Python 3 (ipykernel)",
   "language": "python",
   "name": "python3"
  },
  "language_info": {
   "codemirror_mode": {
    "name": "ipython",
    "version": 3
   },
   "file_extension": ".py",
   "mimetype": "text/x-python",
   "name": "python",
   "nbconvert_exporter": "python",
   "pygments_lexer": "ipython3",
   "version": "3.11.7"
  }
 },
 "nbformat": 4,
 "nbformat_minor": 5
}
